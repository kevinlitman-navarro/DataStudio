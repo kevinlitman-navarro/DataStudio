{
 "cells": [
  {
   "cell_type": "code",
   "execution_count": 1,
   "metadata": {},
   "outputs": [],
   "source": [
    "import pandas as pd\n",
    "import re"
   ]
  },
  {
   "cell_type": "code",
   "execution_count": 2,
   "metadata": {},
   "outputs": [],
   "source": [
    "df = pd.read_csv('petfinderNY_database.csv')"
   ]
  },
  {
   "cell_type": "code",
   "execution_count": 73,
   "metadata": {},
   "outputs": [
    {
     "data": {
      "text/plain": [
       "Dog    0.567227\n",
       "Cat    0.432773\n",
       "Name: animal, dtype: float64"
      ]
     },
     "execution_count": 73,
     "metadata": {},
     "output_type": "execute_result"
    }
   ],
   "source": [
    "df.animal.value_counts(normalize=True)"
   ]
  },
  {
   "cell_type": "code",
   "execution_count": 34,
   "metadata": {},
   "outputs": [
    {
     "data": {
      "text/plain": [
       "Dog    0.704\n",
       "Cat    0.296\n",
       "Name: animal, dtype: float64"
      ]
     },
     "execution_count": 34,
     "metadata": {},
     "output_type": "execute_result"
    }
   ],
   "source": [
    "df[df.description.str.contains('nice|pleasant|loving')].animal.value_counts(normalize=True)"
   ]
  },
  {
   "cell_type": "code",
   "execution_count": 35,
   "metadata": {},
   "outputs": [
    {
     "data": {
      "text/plain": [
       "Cat    0.5\n",
       "Dog    0.5\n",
       "Name: animal, dtype: float64"
      ]
     },
     "execution_count": 35,
     "metadata": {},
     "output_type": "execute_result"
    }
   ],
   "source": [
    "df[df.description.str.contains('mean')].animal.value_counts(normalize=True)"
   ]
  },
  {
   "cell_type": "code",
   "execution_count": 37,
   "metadata": {},
   "outputs": [
    {
     "data": {
      "text/plain": [
       "Dog    0.653846\n",
       "Cat    0.346154\n",
       "Name: animal, dtype: float64"
      ]
     },
     "execution_count": 37,
     "metadata": {},
     "output_type": "execute_result"
    }
   ],
   "source": [
    "df[df.description.str.contains('loud')].animal.value_counts(normalize=True)"
   ]
  },
  {
   "cell_type": "code",
   "execution_count": 38,
   "metadata": {},
   "outputs": [
    {
     "data": {
      "text/plain": [
       "Dog    0.886364\n",
       "Cat    0.113636\n",
       "Name: animal, dtype: float64"
      ]
     },
     "execution_count": 38,
     "metadata": {},
     "output_type": "execute_result"
    }
   ],
   "source": [
    "df[df.description.str.contains('smart|intelligent')].animal.value_counts(normalize=True)"
   ]
  },
  {
   "cell_type": "code",
   "execution_count": 39,
   "metadata": {},
   "outputs": [
    {
     "data": {
      "text/plain": [
       "Dog    0.789474\n",
       "Cat    0.210526\n",
       "Name: animal, dtype: float64"
      ]
     },
     "execution_count": 39,
     "metadata": {},
     "output_type": "execute_result"
    }
   ],
   "source": [
    "df[df.description.str.contains('baby')].animal.value_counts(normalize=True)"
   ]
  },
  {
   "cell_type": "code",
   "execution_count": 44,
   "metadata": {},
   "outputs": [
    {
     "data": {
      "text/plain": [
       "Cat    1.0\n",
       "Name: animal, dtype: float64"
      ]
     },
     "execution_count": 44,
     "metadata": {},
     "output_type": "execute_result"
    }
   ],
   "source": [
    "df[df.description.str.contains('aloof')].animal.value_counts(normalize=True)"
   ]
  },
  {
   "cell_type": "code",
   "execution_count": 58,
   "metadata": {},
   "outputs": [
    {
     "data": {
      "text/plain": [
       "Dog    0.818182\n",
       "Cat    0.181818\n",
       "Name: animal, dtype: float64"
      ]
     },
     "execution_count": 58,
     "metadata": {},
     "output_type": "execute_result"
    }
   ],
   "source": [
    "df[df.description.str.contains('sad')].animal.value_counts(normalize=True)"
   ]
  },
  {
   "cell_type": "code",
   "execution_count": 63,
   "metadata": {},
   "outputs": [
    {
     "data": {
      "text/plain": [
       "Cat    1.0\n",
       "Name: animal, dtype: float64"
      ]
     },
     "execution_count": 63,
     "metadata": {},
     "output_type": "execute_result"
    }
   ],
   "source": [
    "df[df.description.str.contains('angry')].animal.value_counts(normalize=True)"
   ]
  },
  {
   "cell_type": "code",
   "execution_count": 92,
   "metadata": {},
   "outputs": [
    {
     "data": {
      "text/plain": [
       "Dog    0.75\n",
       "Cat    0.25\n",
       "Name: animal, dtype: float64"
      ]
     },
     "execution_count": 92,
     "metadata": {},
     "output_type": "execute_result"
    }
   ],
   "source": [
    "df[df.description.str.contains('afraid')].animal.value_counts(normalize=True)"
   ]
  },
  {
   "cell_type": "code",
   "execution_count": 75,
   "metadata": {},
   "outputs": [],
   "source": [
    "nice_cats = df[df.animal == 'Cat'].description.str.contains('nice|pleasant|loving').value_counts(normalize=True)"
   ]
  },
  {
   "cell_type": "code",
   "execution_count": 74,
   "metadata": {},
   "outputs": [],
   "source": [
    "nice_dogs = df[df.animal == 'Dog'].description.str.contains('nice|pleasant|loving').value_counts(normalize=True)"
   ]
  },
  {
   "cell_type": "code",
   "execution_count": 87,
   "metadata": {},
   "outputs": [
    {
     "data": {
      "text/plain": [
       "<matplotlib.axes._subplots.AxesSubplot at 0x115aa4c18>"
      ]
     },
     "execution_count": 87,
     "metadata": {},
     "output_type": "execute_result"
    },
    {
     "data": {
      "image/png": "[encoded data removed]",
      "text/plain": [
       "<Figure size 432x288 with 1 Axes>"
      ]
     },
     "metadata": {},
     "output_type": "display_data"
    }
   ],
   "source": [
    "df.groupby('animal').age.value_counts().plot(kind='barh', y='age', x=[nice_cats,nice_dogs])"
   ]
  },
  {
   "cell_type": "code",
   "execution_count": 88,
   "metadata": {},
   "outputs": [
    {
     "data": {
      "text/plain": [
       "'Lincoln (#A1017544) was saved from the ACC\\'s At Risk list as a terribly shy 14 week old kitten.  Lincoln had been found alone, surrendered alone and would have died alone had Place For Cats not intervened to save his dear life.\\n\\nLincoln\\'s timidity upon arrival was heart-wrenching.  When held he melted into a little ball of fluff in your hands.  Despite loving care in a few different foster homes, Lincoln remains inordinately shy with people. Lincoln nonetheless has gotten along very, very well with his kitty foster mates in each home.   He is very polite, in cat-speak.  He is not aggressive with other males who are dominant in the household.  Lincoln has been particularly beloved by tiny kittens who come into the foster locations, as he quickly becomes \"Uncle\" Lincoln to the orphaned babes.  In short, Lincoln is a sweet cat, submissive to other felines, but frankly, absolutely terrified of people.  \\n\\nDespite serious efforts, Lincoln has not evolved into a lap cat.  Going into a new home, we predict that it will takes months for his new person to earn his trust.  Eventually, Lincoln will sleep on the bed as long as his person doesn\\'t want to cuddle.  Once he is familiar with you, Lincoln allows affection such as brief back & head rubs during meal time but otherwise, to date, has remained too scared of people to allow loving physical interaction.  \\n\\nLincoln would do best in a home with a caregiver who would allow him to be his independent self, without obligation to participate in physical interaction.   Lincoln would be happy to be alone in a big house where there might be mice to chase. \\n\\nLincoln is FeLV/FIV negative, current in vaccinations, neutered and micro-chipped.  He is three years old as of January 2018 and has never required treatment for any ailment in the past 3 years.  \\n\\nPlace For Cats welcomes all prospective adopters though we request to have your application in advance of scheduling a meet-and-greet at any of our foster homes.  Our application may be downloaded here:  http://www.placeforcats.org/wp-content/uploads/2016/09/PFC-Adoption-Application.pdf   Please complete, sign, scan and return to the email address indicated. \\n\\nPlease note that Place For Cats\\' Adoption Contract has a NO DeClawing clause.\\n\\nAdopters agree to a $150 fee and a home visit.'"
      ]
     },
     "execution_count": 88,
     "metadata": {},
     "output_type": "execute_result"
    }
   ],
   "source": [
    "df.description[0]"
   ]
  },
  {
   "cell_type": "code",
   "execution_count": null,
   "metadata": {},
   "outputs": [],
   "source": []
  }
 ],
 "metadata": {
  "kernelspec": {
   "display_name": "Python 3",
   "language": "python",
   "name": "python3"
  },
  "language_info": {
   "codemirror_mode": {
    "name": "ipython",
    "version": 3
   },
   "file_extension": ".py",
   "mimetype": "text/x-python",
   "name": "python",
   "nbconvert_exporter": "python",
   "pygments_lexer": "ipython3",
   "version": "3.6.4"
  }
 },
 "nbformat": 4,
 "nbformat_minor": 2
}
