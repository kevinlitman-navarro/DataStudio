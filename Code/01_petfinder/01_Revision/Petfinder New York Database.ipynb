{
 "cells": [
  {
   "cell_type": "code",
   "execution_count": 1,
   "metadata": {},
   "outputs": [],
   "source": [
    "import requests\n",
    "import pandas as pd\n",
    "import time\n",
    "import re"
   ]
  },
  {
   "cell_type": "markdown",
   "metadata": {},
   "source": [
    "### Going to scrape some shelter IDs to use for API calls"
   ]
  },
  {
   "cell_type": "code",
   "execution_count": 2,
   "metadata": {},
   "outputs": [],
   "source": [
    "from selenium import webdriver\n",
    "from selenium.webdriver.common.keys import Keys\n",
    "from selenium.webdriver.support.ui import Select\n",
    "from selenium.webdriver.support.ui import WebDriverWait"
   ]
  },
  {
   "cell_type": "code",
   "execution_count": 3,
   "metadata": {},
   "outputs": [],
   "source": [
    "shelter_search = 'https://www.petfinder.com/animal-shelters-and-rescues/search/?location=New+York+City%2C+New+York&shelter_name='"
   ]
  },
  {
   "cell_type": "code",
   "execution_count": 4,
   "metadata": {},
   "outputs": [],
   "source": [
    "driver = webdriver.Chrome()"
   ]
  },
  {
   "cell_type": "code",
   "execution_count": 5,
   "metadata": {},
   "outputs": [],
   "source": [
    "driver.get(shelter_search)"
   ]
  },
  {
   "cell_type": "code",
   "execution_count": 6,
   "metadata": {},
   "outputs": [],
   "source": [
    "first_shelter_id_link = driver.find_elements_by_tag_name('h4')[0].find_element_by_tag_name('a').get_attribute('href')"
   ]
  },
  {
   "cell_type": "code",
   "execution_count": 7,
   "metadata": {},
   "outputs": [
    {
     "data": {
      "text/plain": [
       "'https://www.petfinder.com/shelters/NY374.html'"
      ]
     },
     "execution_count": 7,
     "metadata": {},
     "output_type": "execute_result"
    }
   ],
   "source": [
    "first_shelter_id_link"
   ]
  },
  {
   "cell_type": "code",
   "execution_count": 8,
   "metadata": {},
   "outputs": [],
   "source": [
    "shelter_links = driver.find_elements_by_tag_name('h4')"
   ]
  },
  {
   "cell_type": "code",
   "execution_count": 9,
   "metadata": {},
   "outputs": [],
   "source": [
    "shelter_ids = []\n",
    "\n",
    "for link in shelter_links:\n",
    "    shelter_ids.append(link.find_element_by_tag_name('a').get_attribute('href'))"
   ]
  },
  {
   "cell_type": "code",
   "execution_count": 10,
   "metadata": {},
   "outputs": [
    {
     "data": {
      "text/plain": [
       "['https://www.petfinder.com/shelters/NY374.html',\n",
       " 'https://www.petfinder.com/shelters/NY133.html',\n",
       " 'https://www.petfinder.com/shelters/NY1286.html',\n",
       " 'https://www.petfinder.com/shelters/NY17.html',\n",
       " 'https://www.petfinder.com/shelters/NY114.html',\n",
       " 'https://www.petfinder.com/shelters/NY1183.html',\n",
       " 'https://www.petfinder.com/shelters/NY1100.html',\n",
       " 'https://www.petfinder.com/shelters/NY864.html',\n",
       " 'https://www.petfinder.com/shelters/NY139.html',\n",
       " 'https://www.petfinder.com/shelters/NY955.html',\n",
       " 'https://www.petfinder.com/shelters/NY447.html',\n",
       " 'https://www.petfinder.com/shelters/NY1363.html',\n",
       " 'https://www.petfinder.com/shelters/NY765.html',\n",
       " 'https://www.petfinder.com/shelters/NY100.html',\n",
       " 'https://www.petfinder.com/shelters/NY262.html',\n",
       " 'https://www.petfinder.com/shelters/NY558.html',\n",
       " 'https://www.petfinder.com/shelters/NY1319.html',\n",
       " 'https://www.petfinder.com/shelters/NY557.html',\n",
       " 'https://www.petfinder.com/shelters/NY1008.html',\n",
       " 'https://www.petfinder.com/shelters/NY835.html']"
      ]
     },
     "execution_count": 10,
     "metadata": {},
     "output_type": "execute_result"
    }
   ],
   "source": [
    "shelter_ids"
   ]
  },
  {
   "cell_type": "code",
   "execution_count": 11,
   "metadata": {},
   "outputs": [],
   "source": [
    "button = driver.find_element_by_css_selector('span.fieldBtn-label')"
   ]
  },
  {
   "cell_type": "code",
   "execution_count": 12,
   "metadata": {},
   "outputs": [],
   "source": [
    "button.click()"
   ]
  },
  {
   "cell_type": "markdown",
   "metadata": {},
   "source": [
    "### Now I'm going to do it all in one loop, clicking the button a number of times times to get a nice list of shelter IDs"
   ]
  },
  {
   "cell_type": "code",
   "execution_count": 13,
   "metadata": {},
   "outputs": [],
   "source": [
    "driver.get(shelter_search)\n",
    "\n",
    "shelter_ids = []\n",
    "\n",
    "for i in range(40):\n",
    "    shelter_links = driver.find_elements_by_tag_name('h4')\n",
    "    for link in shelter_links:\n",
    "        shelter_ids.append(link.find_element_by_tag_name('a').get_attribute('href'))\n",
    "    button = driver.find_element_by_css_selector('span.fieldBtn-label')\n",
    "    driver.execute_script(\"arguments[0].scrollIntoView(true)\", button)\n",
    "    button.click()\n",
    "    time.sleep(1)"
   ]
  },
  {
   "cell_type": "code",
   "execution_count": 14,
   "metadata": {},
   "outputs": [],
   "source": [
    "#shelter_ids"
   ]
  },
  {
   "cell_type": "markdown",
   "metadata": {},
   "source": [
    "### I don't want New Jersey shelters, so I'm going to delete those ones"
   ]
  },
  {
   "cell_type": "code",
   "execution_count": 15,
   "metadata": {},
   "outputs": [],
   "source": [
    "shelter_ids_sans_nj = []\n",
    "\n",
    "test_string = 'NY'\n",
    "\n",
    "for shelter in shelter_ids:\n",
    "    if test_string in shelter:\n",
    "        shelter_ids_sans_nj.append(shelter)\n",
    "        \n",
    "#shelter_ids_sans_nj"
   ]
  },
  {
   "cell_type": "code",
   "execution_count": 16,
   "metadata": {},
   "outputs": [
    {
     "data": {
      "text/plain": [
       "700"
      ]
     },
     "execution_count": 16,
     "metadata": {},
     "output_type": "execute_result"
    }
   ],
   "source": [
    "len(shelter_ids_sans_nj)"
   ]
  },
  {
   "cell_type": "code",
   "execution_count": 17,
   "metadata": {},
   "outputs": [
    {
     "data": {
      "text/plain": [
       "35"
      ]
     },
     "execution_count": 17,
     "metadata": {},
     "output_type": "execute_result"
    }
   ],
   "source": [
    "len('https://www.petfinder.com/shelters/')"
   ]
  },
  {
   "cell_type": "code",
   "execution_count": 18,
   "metadata": {},
   "outputs": [],
   "source": [
    "shelter_ids_clean = []\n",
    "\n",
    "for shelter in shelter_ids_sans_nj:\n",
    "    shelter_ids_clean.append(shelter[35:-5])\n",
    "    \n",
    "#shelter_ids_clean"
   ]
  },
  {
   "cell_type": "markdown",
   "metadata": {},
   "source": [
    "### Now back to the API\n",
    "\n",
    "This API call will get me a list of pets (and all their information) from the shelters in the list I scraped together above. Lots of these will end up being repeats, apparently listed by multiple shelters idk didn't really investigate too much, so I'm only going to take the unique ones for my database."
   ]
  },
  {
   "cell_type": "code",
   "execution_count": 19,
   "metadata": {},
   "outputs": [],
   "source": [
    "shelter_pet_data = []\n",
    "\n",
    "for shelter_id in shelter_ids_clean:\n",
    "    url = 'http://api.petfinder.com/shelter.getPets?key=98d37048ffbfab829c7875e3a2bff3a5&id=' + shelter_id + '&output=full&format=json' \n",
    "    response = (requests.get(url)).json()\n",
    "    shelter_pet_data.append(response)\n",
    "\n",
    "#shelter_pet_data"
   ]
  },
  {
   "cell_type": "code",
   "execution_count": 20,
   "metadata": {},
   "outputs": [
    {
     "data": {
      "text/plain": [
       "10160"
      ]
     },
     "execution_count": 20,
     "metadata": {},
     "output_type": "execute_result"
    }
   ],
   "source": [
    "all_pet_info = []\n",
    "\n",
    "for shelter in shelter_pet_data:\n",
    "    try:\n",
    "        for pet in shelter['petfinder']['pets']['pet']:\n",
    "            all_pet_info.append(pet)\n",
    "    except:\n",
    "        pass\n",
    "    \n",
    "len(all_pet_info)"
   ]
  },
  {
   "cell_type": "markdown",
   "metadata": {},
   "source": [
    "### Making it a dataframe\n",
    "\n",
    "Going to turn the API data into a list of dictionaries and change to pandas dataframe"
   ]
  },
  {
   "cell_type": "code",
   "execution_count": 21,
   "metadata": {},
   "outputs": [],
   "source": [
    "pet_data_rows = []\n",
    "\n",
    "for info in all_pet_info:\n",
    "    pet_data_dict = {}\n",
    "    \n",
    "    pet_breed_list = []\n",
    "    try:\n",
    "        #if info['breeds']['breed'] is list: \n",
    "        for pet_breed in info['breeds']['breed']:\n",
    "            pet_breed_list.append(pet_breed['$t'])\n",
    "        pet_data_dict['breeds'] = pet_breed_list\n",
    "        #else:\n",
    "           # pet_data_dict['breeds'] = info['breeds']['breed']['$t']\n",
    "    except:\n",
    "        try:\n",
    "            pet_data_dict['breeds'] = info['breeds']['breed']['$t']\n",
    "        except:\n",
    "            pass\n",
    "    try:\n",
    "        pet_data_dict['age'] = info['age']['$t']\n",
    "    except:\n",
    "        pass\n",
    "    try:\n",
    "        pet_data_dict['animal'] = info['animal']['$t']\n",
    "    except:\n",
    "        pass\n",
    "    try:\n",
    "        pet_data_dict['description'] = info['description']['$t']\n",
    "    except:\n",
    "        pass\n",
    "    try:\n",
    "        pet_data_dict['id'] = info['id']['$t']\n",
    "    except:\n",
    "        pass\n",
    "    try:\n",
    "        pet_data_dict['lastUpdate'] = info['lastUpdate']['$t']\n",
    "    except:\n",
    "        pass\n",
    "    try:\n",
    "        pet_data_dict['mixed'] = info['mix']['$t']\n",
    "    except:\n",
    "        pass\n",
    "    try:\n",
    "        pet_data_dict['name'] = info['name']['$t']\n",
    "    except:\n",
    "        pass\n",
    "    try:\n",
    "        pet_data_dict['sex'] = info['sex']['$t']\n",
    "    except:\n",
    "        pass\n",
    "    try:\n",
    "        pet_data_dict['shelterID'] = info['shelterId']['$t']\n",
    "    except:\n",
    "        pass\n",
    "    try:\n",
    "        pet_data_dict['pet_size'] = info['size']['$t']\n",
    "    except:\n",
    "        pass\n",
    "    try:\n",
    "        pet_data_dict['zipcode'] = info['contact']['zip']['$t']\n",
    "    except:\n",
    "        pass\n",
    "    \n",
    "    pet_pic_list = []\n",
    "    try:\n",
    "        for pet_pic in info['media']['photos']['photo']:\n",
    "            pet_pic_list.append(pet_pic['$t'])\n",
    "        pet_data_dict['picture_links'] = pet_pic_list\n",
    "    except:\n",
    "        pass\n",
    "    \n",
    "    additional_info_list = []\n",
    "    try:\n",
    "        if type(info['options']['option']) is list:\n",
    "            for additional_info in info['options']['option']:\n",
    "                additional_info_list.append(additional_info['$t'])\n",
    "            pet_data_dict['additional_info'] = additional_info_list\n",
    "        else:\n",
    "            pet_data_dict['additional_info'] = info['options']['option']['$t']\n",
    "    except:\n",
    "        pass\n",
    "        \n",
    "    \n",
    "    if pet_data_dict not in pet_data_rows:\n",
    "        pet_data_rows.append(pet_data_dict)"
   ]
  },
  {
   "cell_type": "code",
   "execution_count": 22,
   "metadata": {},
   "outputs": [
    {
     "data": {
      "text/plain": [
       "477"
      ]
     },
     "execution_count": 22,
     "metadata": {},
     "output_type": "execute_result"
    }
   ],
   "source": [
    "len(pet_data_rows)"
   ]
  },
  {
   "cell_type": "code",
   "execution_count": 23,
   "metadata": {},
   "outputs": [
    {
     "data": {
      "text/html": [
       "<div>\n",
       "<style scoped>\n",
       "    .dataframe tbody tr th:only-of-type {\n",
       "        vertical-align: middle;\n",
       "    }\n",
       "\n",
       "    .dataframe tbody tr th {\n",
       "        vertical-align: top;\n",
       "    }\n",
       "\n",
       "    .dataframe thead th {\n",
       "        text-align: right;\n",
       "    }\n",
       "</style>\n",
       "<table border=\"1\" class=\"dataframe\">\n",
       "  <thead>\n",
       "    <tr style=\"text-align: right;\">\n",
       "      <th></th>\n",
       "      <th>additional_info</th>\n",
       "      <th>age</th>\n",
       "      <th>animal</th>\n",
       "      <th>breeds</th>\n",
       "      <th>description</th>\n",
       "      <th>id</th>\n",
       "      <th>lastUpdate</th>\n",
       "      <th>mixed</th>\n",
       "      <th>name</th>\n",
       "      <th>pet_size</th>\n",
       "      <th>picture_links</th>\n",
       "      <th>sex</th>\n",
       "      <th>shelterID</th>\n",
       "      <th>zipcode</th>\n",
       "    </tr>\n",
       "  </thead>\n",
       "  <tbody>\n",
       "    <tr>\n",
       "      <th>0</th>\n",
       "      <td>[altered, hasShots, housetrained, noDogs, noKids]</td>\n",
       "      <td>Adult</td>\n",
       "      <td>Cat</td>\n",
       "      <td>Tabby</td>\n",
       "      <td>Lincoln (#A1017544) was saved from the ACC's A...</td>\n",
       "      <td>30806905</td>\n",
       "      <td>2014-11-14T17:51:56Z</td>\n",
       "      <td>no</td>\n",
       "      <td>Lincoln</td>\n",
       "      <td>M</td>\n",
       "      <td>[http://photos.petfinder.com/photos/pets/30806...</td>\n",
       "      <td>M</td>\n",
       "      <td>NY374</td>\n",
       "      <td>10150</td>\n",
       "    </tr>\n",
       "    <tr>\n",
       "      <th>1</th>\n",
       "      <td>[altered, hasShots, housetrained]</td>\n",
       "      <td>Adult</td>\n",
       "      <td>Cat</td>\n",
       "      <td>Domestic Short Hair</td>\n",
       "      <td>ROOSIE (short for ROOSEVELT) is a nice easy-go...</td>\n",
       "      <td>32389630</td>\n",
       "      <td>2015-06-09T11:42:04Z</td>\n",
       "      <td>no</td>\n",
       "      <td>Roosie</td>\n",
       "      <td>M</td>\n",
       "      <td>[http://photos.petfinder.com/photos/pets/32389...</td>\n",
       "      <td>M</td>\n",
       "      <td>NY374</td>\n",
       "      <td>10150</td>\n",
       "    </tr>\n",
       "    <tr>\n",
       "      <th>2</th>\n",
       "      <td>[altered, hasShots, housetrained]</td>\n",
       "      <td>Young</td>\n",
       "      <td>Cat</td>\n",
       "      <td>Domestic Short Hair</td>\n",
       "      <td>Princess was a bottle baby rescued through ACC...</td>\n",
       "      <td>33623840</td>\n",
       "      <td>2015-10-26T21:06:00Z</td>\n",
       "      <td>no</td>\n",
       "      <td>Princess</td>\n",
       "      <td>M</td>\n",
       "      <td>[http://photos.petfinder.com/photos/pets/33623...</td>\n",
       "      <td>F</td>\n",
       "      <td>NY374</td>\n",
       "      <td>10150</td>\n",
       "    </tr>\n",
       "    <tr>\n",
       "      <th>3</th>\n",
       "      <td>[altered, hasShots, housetrained]</td>\n",
       "      <td>Young</td>\n",
       "      <td>Cat</td>\n",
       "      <td>Domestic Short Hair</td>\n",
       "      <td>MURRY!!   Oh, we love this adolescent.  Murry ...</td>\n",
       "      <td>34111054</td>\n",
       "      <td>2015-12-27T21:56:31Z</td>\n",
       "      <td>no</td>\n",
       "      <td>Murry</td>\n",
       "      <td>M</td>\n",
       "      <td>[http://photos.petfinder.com/photos/pets/34111...</td>\n",
       "      <td>M</td>\n",
       "      <td>NY374</td>\n",
       "      <td>10150</td>\n",
       "    </tr>\n",
       "    <tr>\n",
       "      <th>4</th>\n",
       "      <td>[altered, hasShots, housetrained]</td>\n",
       "      <td>Young</td>\n",
       "      <td>Cat</td>\n",
       "      <td>Domestic Short Hair</td>\n",
       "      <td>ADRIAN and ARABELLA (now called ARIE) are brot...</td>\n",
       "      <td>39463373</td>\n",
       "      <td>2017-09-23T05:21:02Z</td>\n",
       "      <td>no</td>\n",
       "      <td>ADRIAN  &amp; Arabella</td>\n",
       "      <td>M</td>\n",
       "      <td>[http://photos.petfinder.com/photos/pets/39463...</td>\n",
       "      <td>M</td>\n",
       "      <td>NY374</td>\n",
       "      <td>10150</td>\n",
       "    </tr>\n",
       "  </tbody>\n",
       "</table>\n",
       "</div>"
      ],
      "text/plain": [
       "                                     additional_info    age animal  \\\n",
       "0  [altered, hasShots, housetrained, noDogs, noKids]  Adult    Cat   \n",
       "1                  [altered, hasShots, housetrained]  Adult    Cat   \n",
       "2                  [altered, hasShots, housetrained]  Young    Cat   \n",
       "3                  [altered, hasShots, housetrained]  Young    Cat   \n",
       "4                  [altered, hasShots, housetrained]  Young    Cat   \n",
       "\n",
       "                breeds                                        description  \\\n",
       "0                Tabby  Lincoln (#A1017544) was saved from the ACC's A...   \n",
       "1  Domestic Short Hair  ROOSIE (short for ROOSEVELT) is a nice easy-go...   \n",
       "2  Domestic Short Hair  Princess was a bottle baby rescued through ACC...   \n",
       "3  Domestic Short Hair  MURRY!!   Oh, we love this adolescent.  Murry ...   \n",
       "4  Domestic Short Hair  ADRIAN and ARABELLA (now called ARIE) are brot...   \n",
       "\n",
       "         id            lastUpdate mixed                name pet_size  \\\n",
       "0  30806905  2014-11-14T17:51:56Z    no             Lincoln        M   \n",
       "1  32389630  2015-06-09T11:42:04Z    no              Roosie        M   \n",
       "2  33623840  2015-10-26T21:06:00Z    no            Princess        M   \n",
       "3  34111054  2015-12-27T21:56:31Z    no               Murry        M   \n",
       "4  39463373  2017-09-23T05:21:02Z    no  ADRIAN  & Arabella        M   \n",
       "\n",
       "                                       picture_links sex shelterID zipcode  \n",
       "0  [http://photos.petfinder.com/photos/pets/30806...   M     NY374   10150  \n",
       "1  [http://photos.petfinder.com/photos/pets/32389...   M     NY374   10150  \n",
       "2  [http://photos.petfinder.com/photos/pets/33623...   F     NY374   10150  \n",
       "3  [http://photos.petfinder.com/photos/pets/34111...   M     NY374   10150  \n",
       "4  [http://photos.petfinder.com/photos/pets/39463...   M     NY374   10150  "
      ]
     },
     "execution_count": 23,
     "metadata": {},
     "output_type": "execute_result"
    }
   ],
   "source": [
    "df = pd.DataFrame(pet_data_rows)\n",
    "df.head()"
   ]
  },
  {
   "cell_type": "code",
   "execution_count": 24,
   "metadata": {},
   "outputs": [],
   "source": [
    "df.to_csv('petfinderNY_database.csv', index=False)"
   ]
  },
  {
   "cell_type": "markdown",
   "metadata": {},
   "source": [
    "### After saving to a csv...\n",
    "\n",
    "Time to clean the data!"
   ]
  },
  {
   "cell_type": "code",
   "execution_count": 27,
   "metadata": {},
   "outputs": [
    {
     "data": {
      "text/html": [
       "<div>\n",
       "<style scoped>\n",
       "    .dataframe tbody tr th:only-of-type {\n",
       "        vertical-align: middle;\n",
       "    }\n",
       "\n",
       "    .dataframe tbody tr th {\n",
       "        vertical-align: top;\n",
       "    }\n",
       "\n",
       "    .dataframe thead th {\n",
       "        text-align: right;\n",
       "    }\n",
       "</style>\n",
       "<table border=\"1\" class=\"dataframe\">\n",
       "  <thead>\n",
       "    <tr style=\"text-align: right;\">\n",
       "      <th></th>\n",
       "      <th>additional_info</th>\n",
       "      <th>age</th>\n",
       "      <th>animal</th>\n",
       "      <th>breeds</th>\n",
       "      <th>description</th>\n",
       "      <th>id</th>\n",
       "      <th>lastUpdate</th>\n",
       "      <th>mixed</th>\n",
       "      <th>name</th>\n",
       "      <th>pet_size</th>\n",
       "      <th>picture_links</th>\n",
       "      <th>sex</th>\n",
       "      <th>shelterID</th>\n",
       "      <th>zipcode</th>\n",
       "    </tr>\n",
       "  </thead>\n",
       "  <tbody>\n",
       "    <tr>\n",
       "      <th>0</th>\n",
       "      <td>[altered, hasShots, housetrained, noDogs, noKids]</td>\n",
       "      <td>Adult</td>\n",
       "      <td>Cat</td>\n",
       "      <td>Tabby</td>\n",
       "      <td>Lincoln (#A1017544) was saved from the ACC's A...</td>\n",
       "      <td>30806905</td>\n",
       "      <td>2014-11-14T17:51:56Z</td>\n",
       "      <td>no</td>\n",
       "      <td>Lincoln</td>\n",
       "      <td>Medium</td>\n",
       "      <td>[http://photos.petfinder.com/photos/pets/30806...</td>\n",
       "      <td>M</td>\n",
       "      <td>NY374</td>\n",
       "      <td>10150</td>\n",
       "    </tr>\n",
       "    <tr>\n",
       "      <th>1</th>\n",
       "      <td>[altered, hasShots, housetrained]</td>\n",
       "      <td>Adult</td>\n",
       "      <td>Cat</td>\n",
       "      <td>Domestic Short Hair</td>\n",
       "      <td>ROOSIE (short for ROOSEVELT) is a nice easy-go...</td>\n",
       "      <td>32389630</td>\n",
       "      <td>2015-06-09T11:42:04Z</td>\n",
       "      <td>no</td>\n",
       "      <td>Roosie</td>\n",
       "      <td>Medium</td>\n",
       "      <td>[http://photos.petfinder.com/photos/pets/32389...</td>\n",
       "      <td>M</td>\n",
       "      <td>NY374</td>\n",
       "      <td>10150</td>\n",
       "    </tr>\n",
       "    <tr>\n",
       "      <th>2</th>\n",
       "      <td>[altered, hasShots, housetrained]</td>\n",
       "      <td>Young</td>\n",
       "      <td>Cat</td>\n",
       "      <td>Domestic Short Hair</td>\n",
       "      <td>Princess was a bottle baby rescued through ACC...</td>\n",
       "      <td>33623840</td>\n",
       "      <td>2015-10-26T21:06:00Z</td>\n",
       "      <td>no</td>\n",
       "      <td>Princess</td>\n",
       "      <td>Medium</td>\n",
       "      <td>[http://photos.petfinder.com/photos/pets/33623...</td>\n",
       "      <td>F</td>\n",
       "      <td>NY374</td>\n",
       "      <td>10150</td>\n",
       "    </tr>\n",
       "    <tr>\n",
       "      <th>3</th>\n",
       "      <td>[altered, hasShots, housetrained]</td>\n",
       "      <td>Young</td>\n",
       "      <td>Cat</td>\n",
       "      <td>Domestic Short Hair</td>\n",
       "      <td>MURRY!!   Oh, we love this adolescent.  Murry ...</td>\n",
       "      <td>34111054</td>\n",
       "      <td>2015-12-27T21:56:31Z</td>\n",
       "      <td>no</td>\n",
       "      <td>Murry</td>\n",
       "      <td>Medium</td>\n",
       "      <td>[http://photos.petfinder.com/photos/pets/34111...</td>\n",
       "      <td>M</td>\n",
       "      <td>NY374</td>\n",
       "      <td>10150</td>\n",
       "    </tr>\n",
       "    <tr>\n",
       "      <th>4</th>\n",
       "      <td>[altered, hasShots, housetrained]</td>\n",
       "      <td>Young</td>\n",
       "      <td>Cat</td>\n",
       "      <td>Domestic Short Hair</td>\n",
       "      <td>ADRIAN and ARABELLA (now called ARIE) are brot...</td>\n",
       "      <td>39463373</td>\n",
       "      <td>2017-09-23T05:21:02Z</td>\n",
       "      <td>no</td>\n",
       "      <td>ADRIAN  &amp; Arabella</td>\n",
       "      <td>Medium</td>\n",
       "      <td>[http://photos.petfinder.com/photos/pets/39463...</td>\n",
       "      <td>M</td>\n",
       "      <td>NY374</td>\n",
       "      <td>10150</td>\n",
       "    </tr>\n",
       "  </tbody>\n",
       "</table>\n",
       "</div>"
      ],
      "text/plain": [
       "                                     additional_info    age animal  \\\n",
       "0  [altered, hasShots, housetrained, noDogs, noKids]  Adult    Cat   \n",
       "1                  [altered, hasShots, housetrained]  Adult    Cat   \n",
       "2                  [altered, hasShots, housetrained]  Young    Cat   \n",
       "3                  [altered, hasShots, housetrained]  Young    Cat   \n",
       "4                  [altered, hasShots, housetrained]  Young    Cat   \n",
       "\n",
       "                breeds                                        description  \\\n",
       "0                Tabby  Lincoln (#A1017544) was saved from the ACC's A...   \n",
       "1  Domestic Short Hair  ROOSIE (short for ROOSEVELT) is a nice easy-go...   \n",
       "2  Domestic Short Hair  Princess was a bottle baby rescued through ACC...   \n",
       "3  Domestic Short Hair  MURRY!!   Oh, we love this adolescent.  Murry ...   \n",
       "4  Domestic Short Hair  ADRIAN and ARABELLA (now called ARIE) are brot...   \n",
       "\n",
       "         id            lastUpdate mixed                name pet_size  \\\n",
       "0  30806905  2014-11-14T17:51:56Z    no             Lincoln   Medium   \n",
       "1  32389630  2015-06-09T11:42:04Z    no              Roosie   Medium   \n",
       "2  33623840  2015-10-26T21:06:00Z    no            Princess   Medium   \n",
       "3  34111054  2015-12-27T21:56:31Z    no               Murry   Medium   \n",
       "4  39463373  2017-09-23T05:21:02Z    no  ADRIAN  & Arabella   Medium   \n",
       "\n",
       "                                       picture_links sex shelterID zipcode  \n",
       "0  [http://photos.petfinder.com/photos/pets/30806...   M     NY374   10150  \n",
       "1  [http://photos.petfinder.com/photos/pets/32389...   M     NY374   10150  \n",
       "2  [http://photos.petfinder.com/photos/pets/33623...   F     NY374   10150  \n",
       "3  [http://photos.petfinder.com/photos/pets/34111...   M     NY374   10150  \n",
       "4  [http://photos.petfinder.com/photos/pets/39463...   M     NY374   10150  "
      ]
     },
     "execution_count": 27,
     "metadata": {},
     "output_type": "execute_result"
    }
   ],
   "source": [
    "df.pet_size = df.pet_size.replace('M', 'Medium')\n",
    "df.pet_size = df.pet_size.replace('S', 'Small')\n",
    "df.pet_size = df.pet_size.replace('L', 'Large')\n",
    "df.pet_size = df.pet_size.replace('XL', 'Extra Large')\n",
    "df.head()"
   ]
  },
  {
   "cell_type": "code",
   "execution_count": 28,
   "metadata": {},
   "outputs": [
    {
     "data": {
      "text/html": [
       "<div>\n",
       "<style scoped>\n",
       "    .dataframe tbody tr th:only-of-type {\n",
       "        vertical-align: middle;\n",
       "    }\n",
       "\n",
       "    .dataframe tbody tr th {\n",
       "        vertical-align: top;\n",
       "    }\n",
       "\n",
       "    .dataframe thead th {\n",
       "        text-align: right;\n",
       "    }\n",
       "</style>\n",
       "<table border=\"1\" class=\"dataframe\">\n",
       "  <thead>\n",
       "    <tr style=\"text-align: right;\">\n",
       "      <th></th>\n",
       "      <th>additional_info</th>\n",
       "      <th>age</th>\n",
       "      <th>animal</th>\n",
       "      <th>breeds</th>\n",
       "      <th>description</th>\n",
       "      <th>id</th>\n",
       "      <th>lastUpdate</th>\n",
       "      <th>mixed</th>\n",
       "      <th>name</th>\n",
       "      <th>pet_size</th>\n",
       "      <th>picture_links</th>\n",
       "      <th>sex</th>\n",
       "      <th>shelterID</th>\n",
       "      <th>zipcode</th>\n",
       "    </tr>\n",
       "  </thead>\n",
       "  <tbody>\n",
       "    <tr>\n",
       "      <th>0</th>\n",
       "      <td>[altered, hasShots, housetrained, noDogs, noKids]</td>\n",
       "      <td>Adult</td>\n",
       "      <td>Cat</td>\n",
       "      <td>Tabby</td>\n",
       "      <td>Lincoln (#A1017544) was saved from the ACC's A...</td>\n",
       "      <td>30806905</td>\n",
       "      <td>2014-11-14T17:51:56Z</td>\n",
       "      <td>no</td>\n",
       "      <td>Lincoln</td>\n",
       "      <td>Medium</td>\n",
       "      <td>[http://photos.petfinder.com/photos/pets/30806...</td>\n",
       "      <td>Male</td>\n",
       "      <td>NY374</td>\n",
       "      <td>10150</td>\n",
       "    </tr>\n",
       "    <tr>\n",
       "      <th>1</th>\n",
       "      <td>[altered, hasShots, housetrained]</td>\n",
       "      <td>Adult</td>\n",
       "      <td>Cat</td>\n",
       "      <td>Domestic Short Hair</td>\n",
       "      <td>ROOSIE (short for ROOSEVELT) is a nice easy-go...</td>\n",
       "      <td>32389630</td>\n",
       "      <td>2015-06-09T11:42:04Z</td>\n",
       "      <td>no</td>\n",
       "      <td>Roosie</td>\n",
       "      <td>Medium</td>\n",
       "      <td>[http://photos.petfinder.com/photos/pets/32389...</td>\n",
       "      <td>Male</td>\n",
       "      <td>NY374</td>\n",
       "      <td>10150</td>\n",
       "    </tr>\n",
       "    <tr>\n",
       "      <th>2</th>\n",
       "      <td>[altered, hasShots, housetrained]</td>\n",
       "      <td>Young</td>\n",
       "      <td>Cat</td>\n",
       "      <td>Domestic Short Hair</td>\n",
       "      <td>Princess was a bottle baby rescued through ACC...</td>\n",
       "      <td>33623840</td>\n",
       "      <td>2015-10-26T21:06:00Z</td>\n",
       "      <td>no</td>\n",
       "      <td>Princess</td>\n",
       "      <td>Medium</td>\n",
       "      <td>[http://photos.petfinder.com/photos/pets/33623...</td>\n",
       "      <td>Female</td>\n",
       "      <td>NY374</td>\n",
       "      <td>10150</td>\n",
       "    </tr>\n",
       "    <tr>\n",
       "      <th>3</th>\n",
       "      <td>[altered, hasShots, housetrained]</td>\n",
       "      <td>Young</td>\n",
       "      <td>Cat</td>\n",
       "      <td>Domestic Short Hair</td>\n",
       "      <td>MURRY!!   Oh, we love this adolescent.  Murry ...</td>\n",
       "      <td>34111054</td>\n",
       "      <td>2015-12-27T21:56:31Z</td>\n",
       "      <td>no</td>\n",
       "      <td>Murry</td>\n",
       "      <td>Medium</td>\n",
       "      <td>[http://photos.petfinder.com/photos/pets/34111...</td>\n",
       "      <td>Male</td>\n",
       "      <td>NY374</td>\n",
       "      <td>10150</td>\n",
       "    </tr>\n",
       "    <tr>\n",
       "      <th>4</th>\n",
       "      <td>[altered, hasShots, housetrained]</td>\n",
       "      <td>Young</td>\n",
       "      <td>Cat</td>\n",
       "      <td>Domestic Short Hair</td>\n",
       "      <td>ADRIAN and ARABELLA (now called ARIE) are brot...</td>\n",
       "      <td>39463373</td>\n",
       "      <td>2017-09-23T05:21:02Z</td>\n",
       "      <td>no</td>\n",
       "      <td>ADRIAN  &amp; Arabella</td>\n",
       "      <td>Medium</td>\n",
       "      <td>[http://photos.petfinder.com/photos/pets/39463...</td>\n",
       "      <td>Male</td>\n",
       "      <td>NY374</td>\n",
       "      <td>10150</td>\n",
       "    </tr>\n",
       "  </tbody>\n",
       "</table>\n",
       "</div>"
      ],
      "text/plain": [
       "                                     additional_info    age animal  \\\n",
       "0  [altered, hasShots, housetrained, noDogs, noKids]  Adult    Cat   \n",
       "1                  [altered, hasShots, housetrained]  Adult    Cat   \n",
       "2                  [altered, hasShots, housetrained]  Young    Cat   \n",
       "3                  [altered, hasShots, housetrained]  Young    Cat   \n",
       "4                  [altered, hasShots, housetrained]  Young    Cat   \n",
       "\n",
       "                breeds                                        description  \\\n",
       "0                Tabby  Lincoln (#A1017544) was saved from the ACC's A...   \n",
       "1  Domestic Short Hair  ROOSIE (short for ROOSEVELT) is a nice easy-go...   \n",
       "2  Domestic Short Hair  Princess was a bottle baby rescued through ACC...   \n",
       "3  Domestic Short Hair  MURRY!!   Oh, we love this adolescent.  Murry ...   \n",
       "4  Domestic Short Hair  ADRIAN and ARABELLA (now called ARIE) are brot...   \n",
       "\n",
       "         id            lastUpdate mixed                name pet_size  \\\n",
       "0  30806905  2014-11-14T17:51:56Z    no             Lincoln   Medium   \n",
       "1  32389630  2015-06-09T11:42:04Z    no              Roosie   Medium   \n",
       "2  33623840  2015-10-26T21:06:00Z    no            Princess   Medium   \n",
       "3  34111054  2015-12-27T21:56:31Z    no               Murry   Medium   \n",
       "4  39463373  2017-09-23T05:21:02Z    no  ADRIAN  & Arabella   Medium   \n",
       "\n",
       "                                       picture_links     sex shelterID zipcode  \n",
       "0  [http://photos.petfinder.com/photos/pets/30806...    Male     NY374   10150  \n",
       "1  [http://photos.petfinder.com/photos/pets/32389...    Male     NY374   10150  \n",
       "2  [http://photos.petfinder.com/photos/pets/33623...  Female     NY374   10150  \n",
       "3  [http://photos.petfinder.com/photos/pets/34111...    Male     NY374   10150  \n",
       "4  [http://photos.petfinder.com/photos/pets/39463...    Male     NY374   10150  "
      ]
     },
     "execution_count": 28,
     "metadata": {},
     "output_type": "execute_result"
    }
   ],
   "source": [
    "df.sex = df.sex.replace('M', 'Male')\n",
    "df.sex = df.sex.replace('F', 'Female')\n",
    "df.head()"
   ]
  },
  {
   "cell_type": "code",
   "execution_count": 52,
   "metadata": {},
   "outputs": [
    {
     "data": {
      "text/plain": [
       "'altered'"
      ]
     },
     "execution_count": 52,
     "metadata": {},
     "output_type": "execute_result"
    }
   ],
   "source": [
    "df.additional_info[0][0]"
   ]
  },
  {
   "cell_type": "markdown",
   "metadata": {},
   "source": [
    "The following function will pull out all of the 'additional info' into new columns so I can compare more stuff"
   ]
  },
  {
   "cell_type": "code",
   "execution_count": 76,
   "metadata": {},
   "outputs": [],
   "source": [
    "def sort_additional_info(row):\n",
    "    if type(row.additional_info) == list:\n",
    "    \n",
    "        if 'altered' in row.additional_info:\n",
    "            row['altered'] = 'Altered'\n",
    "        else:\n",
    "            row['altered'] = 'Not altered'\n",
    "\n",
    "        if 'hasShots' in row.additional_info:\n",
    "            row['vaccinated'] = 'Vaccinated'\n",
    "        else:\n",
    "            row['vaccinated'] = 'Not vaccinated'\n",
    "\n",
    "        if 'housetrained' in row.additional_info:\n",
    "            row['housetrained'] = 'Housetrained'\n",
    "        else:\n",
    "            row['housetrained'] = 'Not housetrained'\n",
    "\n",
    "        if 'noDogs' in row.additional_info:\n",
    "            row['cynophobic'] = 'Cynophobic'\n",
    "        else:\n",
    "            row['cynophobic'] = 'Not cynophobic'\n",
    "\n",
    "        if 'noKids' in row.additional_info:\n",
    "            row['hates_children'] = 'Definitely hates children'\n",
    "        else:\n",
    "            row['hates_children'] = 'Does not hate children'\n",
    "\n",
    "        if 'noCats' in row.additional_info:\n",
    "            row['felinephobic'] = 'Felinephobic'\n",
    "        else:\n",
    "            row['felinephobic'] = 'Not felinephobic'\n",
    "\n",
    "        if 'specialNeeds' in row.additional_info:\n",
    "            row['specialNeeds'] = 'Has special needs'\n",
    "        else:\n",
    "            row['specialNeeds'] = 'No special needs'\n",
    "    else:\n",
    "        if row.additional_info == 'altered':\n",
    "            row['altered'] = 'Altered'\n",
    "        else:\n",
    "            row['altered'] = 'Not altered'\n",
    "            \n",
    "        if row.additional_info == 'hasShots':\n",
    "            row['vaccinated'] = 'Vaccinated'\n",
    "        else:\n",
    "            row['vaccinated'] = 'Not vaccinated'\n",
    "            \n",
    "        if row.additional_info == 'housetrained':\n",
    "            row['housetrained'] = 'Housetrained'\n",
    "        else:\n",
    "            row['housetrained'] = 'Not housetrained'\n",
    "            \n",
    "        if row.additional_info == 'noDogs':\n",
    "            row['cynophobic'] = 'Cynophobic'\n",
    "        else:\n",
    "            row['cynophobic'] = 'Not cynophobic'\n",
    "            \n",
    "        if row.additional_info == 'noKids':\n",
    "            row['hates_children'] = 'Definitely hates children'\n",
    "        else:\n",
    "            row['hates_children'] = 'Does not hate children'\n",
    "            \n",
    "        if row.additional_info == 'noCats':\n",
    "            row['felinephobic'] = 'Felinephobic'\n",
    "        else:\n",
    "            row['felinephobic'] = 'Not felinephobic'\n",
    "            \n",
    "        if row.additional_info == 'specialneeds':\n",
    "            row['specialNeeds'] = 'Has special needs'\n",
    "        else:\n",
    "            row['specialNeeds'] = 'No special needs'\n",
    "    return row"
   ]
  },
  {
   "cell_type": "code",
   "execution_count": 83,
   "metadata": {},
   "outputs": [
    {
     "data": {
      "text/html": [
       "<div>\n",
       "<style scoped>\n",
       "    .dataframe tbody tr th:only-of-type {\n",
       "        vertical-align: middle;\n",
       "    }\n",
       "\n",
       "    .dataframe tbody tr th {\n",
       "        vertical-align: top;\n",
       "    }\n",
       "\n",
       "    .dataframe thead th {\n",
       "        text-align: right;\n",
       "    }\n",
       "</style>\n",
       "<table border=\"1\" class=\"dataframe\">\n",
       "  <thead>\n",
       "    <tr style=\"text-align: right;\">\n",
       "      <th></th>\n",
       "      <th>additional_info</th>\n",
       "      <th>age</th>\n",
       "      <th>animal</th>\n",
       "      <th>breeds</th>\n",
       "      <th>description</th>\n",
       "      <th>id</th>\n",
       "      <th>lastUpdate</th>\n",
       "      <th>mixed</th>\n",
       "      <th>name</th>\n",
       "      <th>pet_size</th>\n",
       "      <th>...</th>\n",
       "      <th>sex</th>\n",
       "      <th>shelterID</th>\n",
       "      <th>zipcode</th>\n",
       "      <th>altered</th>\n",
       "      <th>vaccinated</th>\n",
       "      <th>housetrained</th>\n",
       "      <th>cynophobic</th>\n",
       "      <th>hates_children</th>\n",
       "      <th>felinephobic</th>\n",
       "      <th>specialNeeds</th>\n",
       "    </tr>\n",
       "  </thead>\n",
       "  <tbody>\n",
       "    <tr>\n",
       "      <th>0</th>\n",
       "      <td>[altered, hasShots, housetrained, noDogs, noKids]</td>\n",
       "      <td>Adult</td>\n",
       "      <td>Cat</td>\n",
       "      <td>Tabby</td>\n",
       "      <td>Lincoln (#A1017544) was saved from the ACC's A...</td>\n",
       "      <td>30806905</td>\n",
       "      <td>2014-11-14T17:51:56Z</td>\n",
       "      <td>no</td>\n",
       "      <td>Lincoln</td>\n",
       "      <td>Medium</td>\n",
       "      <td>...</td>\n",
       "      <td>Male</td>\n",
       "      <td>NY374</td>\n",
       "      <td>10150</td>\n",
       "      <td>Altered</td>\n",
       "      <td>Vaccinated</td>\n",
       "      <td>Housetrained</td>\n",
       "      <td>Cynophobic</td>\n",
       "      <td>Definitely hates children</td>\n",
       "      <td>Not felinephobic</td>\n",
       "      <td>No special needs</td>\n",
       "    </tr>\n",
       "    <tr>\n",
       "      <th>1</th>\n",
       "      <td>[altered, hasShots, housetrained]</td>\n",
       "      <td>Adult</td>\n",
       "      <td>Cat</td>\n",
       "      <td>Domestic Short Hair</td>\n",
       "      <td>ROOSIE (short for ROOSEVELT) is a nice easy-go...</td>\n",
       "      <td>32389630</td>\n",
       "      <td>2015-06-09T11:42:04Z</td>\n",
       "      <td>no</td>\n",
       "      <td>Roosie</td>\n",
       "      <td>Medium</td>\n",
       "      <td>...</td>\n",
       "      <td>Male</td>\n",
       "      <td>NY374</td>\n",
       "      <td>10150</td>\n",
       "      <td>Altered</td>\n",
       "      <td>Vaccinated</td>\n",
       "      <td>Housetrained</td>\n",
       "      <td>Not cynophobic</td>\n",
       "      <td>Does not hate children</td>\n",
       "      <td>Not felinephobic</td>\n",
       "      <td>No special needs</td>\n",
       "    </tr>\n",
       "    <tr>\n",
       "      <th>2</th>\n",
       "      <td>[altered, hasShots, housetrained]</td>\n",
       "      <td>Young</td>\n",
       "      <td>Cat</td>\n",
       "      <td>Domestic Short Hair</td>\n",
       "      <td>Princess was a bottle baby rescued through ACC...</td>\n",
       "      <td>33623840</td>\n",
       "      <td>2015-10-26T21:06:00Z</td>\n",
       "      <td>no</td>\n",
       "      <td>Princess</td>\n",
       "      <td>Medium</td>\n",
       "      <td>...</td>\n",
       "      <td>Female</td>\n",
       "      <td>NY374</td>\n",
       "      <td>10150</td>\n",
       "      <td>Altered</td>\n",
       "      <td>Vaccinated</td>\n",
       "      <td>Housetrained</td>\n",
       "      <td>Not cynophobic</td>\n",
       "      <td>Does not hate children</td>\n",
       "      <td>Not felinephobic</td>\n",
       "      <td>No special needs</td>\n",
       "    </tr>\n",
       "    <tr>\n",
       "      <th>3</th>\n",
       "      <td>[altered, hasShots, housetrained]</td>\n",
       "      <td>Young</td>\n",
       "      <td>Cat</td>\n",
       "      <td>Domestic Short Hair</td>\n",
       "      <td>MURRY!!   Oh, we love this adolescent.  Murry ...</td>\n",
       "      <td>34111054</td>\n",
       "      <td>2015-12-27T21:56:31Z</td>\n",
       "      <td>no</td>\n",
       "      <td>Murry</td>\n",
       "      <td>Medium</td>\n",
       "      <td>...</td>\n",
       "      <td>Male</td>\n",
       "      <td>NY374</td>\n",
       "      <td>10150</td>\n",
       "      <td>Altered</td>\n",
       "      <td>Vaccinated</td>\n",
       "      <td>Housetrained</td>\n",
       "      <td>Not cynophobic</td>\n",
       "      <td>Does not hate children</td>\n",
       "      <td>Not felinephobic</td>\n",
       "      <td>No special needs</td>\n",
       "    </tr>\n",
       "    <tr>\n",
       "      <th>4</th>\n",
       "      <td>[altered, hasShots, housetrained]</td>\n",
       "      <td>Young</td>\n",
       "      <td>Cat</td>\n",
       "      <td>Domestic Short Hair</td>\n",
       "      <td>ADRIAN and ARABELLA (now called ARIE) are brot...</td>\n",
       "      <td>39463373</td>\n",
       "      <td>2017-09-23T05:21:02Z</td>\n",
       "      <td>no</td>\n",
       "      <td>ADRIAN  &amp; Arabella</td>\n",
       "      <td>Medium</td>\n",
       "      <td>...</td>\n",
       "      <td>Male</td>\n",
       "      <td>NY374</td>\n",
       "      <td>10150</td>\n",
       "      <td>Altered</td>\n",
       "      <td>Vaccinated</td>\n",
       "      <td>Housetrained</td>\n",
       "      <td>Not cynophobic</td>\n",
       "      <td>Does not hate children</td>\n",
       "      <td>Not felinephobic</td>\n",
       "      <td>No special needs</td>\n",
       "    </tr>\n",
       "  </tbody>\n",
       "</table>\n",
       "<p>5 rows × 21 columns</p>\n",
       "</div>"
      ],
      "text/plain": [
       "                                     additional_info    age animal  \\\n",
       "0  [altered, hasShots, housetrained, noDogs, noKids]  Adult    Cat   \n",
       "1                  [altered, hasShots, housetrained]  Adult    Cat   \n",
       "2                  [altered, hasShots, housetrained]  Young    Cat   \n",
       "3                  [altered, hasShots, housetrained]  Young    Cat   \n",
       "4                  [altered, hasShots, housetrained]  Young    Cat   \n",
       "\n",
       "                breeds                                        description  \\\n",
       "0                Tabby  Lincoln (#A1017544) was saved from the ACC's A...   \n",
       "1  Domestic Short Hair  ROOSIE (short for ROOSEVELT) is a nice easy-go...   \n",
       "2  Domestic Short Hair  Princess was a bottle baby rescued through ACC...   \n",
       "3  Domestic Short Hair  MURRY!!   Oh, we love this adolescent.  Murry ...   \n",
       "4  Domestic Short Hair  ADRIAN and ARABELLA (now called ARIE) are brot...   \n",
       "\n",
       "         id            lastUpdate mixed                name pet_size  \\\n",
       "0  30806905  2014-11-14T17:51:56Z    no             Lincoln   Medium   \n",
       "1  32389630  2015-06-09T11:42:04Z    no              Roosie   Medium   \n",
       "2  33623840  2015-10-26T21:06:00Z    no            Princess   Medium   \n",
       "3  34111054  2015-12-27T21:56:31Z    no               Murry   Medium   \n",
       "4  39463373  2017-09-23T05:21:02Z    no  ADRIAN  & Arabella   Medium   \n",
       "\n",
       "         ...            sex shelterID zipcode  altered  vaccinated  \\\n",
       "0        ...           Male     NY374   10150  Altered  Vaccinated   \n",
       "1        ...           Male     NY374   10150  Altered  Vaccinated   \n",
       "2        ...         Female     NY374   10150  Altered  Vaccinated   \n",
       "3        ...           Male     NY374   10150  Altered  Vaccinated   \n",
       "4        ...           Male     NY374   10150  Altered  Vaccinated   \n",
       "\n",
       "   housetrained      cynophobic             hates_children      felinephobic  \\\n",
       "0  Housetrained      Cynophobic  Definitely hates children  Not felinephobic   \n",
       "1  Housetrained  Not cynophobic     Does not hate children  Not felinephobic   \n",
       "2  Housetrained  Not cynophobic     Does not hate children  Not felinephobic   \n",
       "3  Housetrained  Not cynophobic     Does not hate children  Not felinephobic   \n",
       "4  Housetrained  Not cynophobic     Does not hate children  Not felinephobic   \n",
       "\n",
       "       specialNeeds  \n",
       "0  No special needs  \n",
       "1  No special needs  \n",
       "2  No special needs  \n",
       "3  No special needs  \n",
       "4  No special needs  \n",
       "\n",
       "[5 rows x 21 columns]"
      ]
     },
     "execution_count": 83,
     "metadata": {},
     "output_type": "execute_result"
    }
   ],
   "source": [
    "df = df.apply(sort_additional_info, axis=1)\n",
    "df.head()"
   ]
  },
  {
   "cell_type": "code",
   "execution_count": 84,
   "metadata": {},
   "outputs": [
    {
     "data": {
      "text/plain": [
       "Does not hate children       436\n",
       "Definitely hates children     41\n",
       "Name: hates_children, dtype: int64"
      ]
     },
     "execution_count": 84,
     "metadata": {},
     "output_type": "execute_result"
    }
   ],
   "source": [
    "df.hates_children.value_counts()"
   ]
  },
  {
   "cell_type": "markdown",
   "metadata": {},
   "source": [
    "### Finally I'm going to check and make sure there are no NaN values, which also means dropping this one random row that is entirely NaN values"
   ]
  },
  {
   "cell_type": "code",
   "execution_count": 86,
   "metadata": {},
   "outputs": [
    {
     "data": {
      "text/plain": [
       "False    477\n",
       "Name: description, dtype: int64"
      ]
     },
     "execution_count": 86,
     "metadata": {},
     "output_type": "execute_result"
    }
   ],
   "source": [
    "df['description'] = df.description.fillna('No description')\n",
    "df.description.isnull().value_counts()"
   ]
  },
  {
   "cell_type": "code",
   "execution_count": 91,
   "metadata": {},
   "outputs": [
    {
     "data": {
      "text/plain": [
       "False    477\n",
       "Name: description, dtype: int64"
      ]
     },
     "execution_count": 91,
     "metadata": {},
     "output_type": "execute_result"
    }
   ],
   "source": [
    "df['additional_info'] = df.additional_info.fillna('No additional info')\n",
    "df.description.isnull().value_counts()"
   ]
  },
  {
   "cell_type": "code",
   "execution_count": 96,
   "metadata": {},
   "outputs": [],
   "source": [
    "df = df.drop(index=318, axis=0)"
   ]
  },
  {
   "cell_type": "code",
   "execution_count": 118,
   "metadata": {},
   "outputs": [
    {
     "data": {
      "text/plain": [
       "False    476\n",
       "Name: description, dtype: int64"
      ]
     },
     "execution_count": 118,
     "metadata": {},
     "output_type": "execute_result"
    }
   ],
   "source": [
    "df['picture_links'] = df.picture_links.fillna('No pics')\n",
    "df.description.isnull().value_counts()"
   ]
  },
  {
   "cell_type": "markdown",
   "metadata": {},
   "source": [
    "### Resaving the database in its clean form"
   ]
  },
  {
   "cell_type": "code",
   "execution_count": 119,
   "metadata": {},
   "outputs": [],
   "source": [
    "df.to_csv('petfinderNY_database.csv', index=False)"
   ]
  },
  {
   "cell_type": "code",
   "execution_count": null,
   "metadata": {},
   "outputs": [],
   "source": []
  }
 ],
 "metadata": {
  "kernelspec": {
   "display_name": "Python 3",
   "language": "python",
   "name": "python3"
  },
  "language_info": {
   "codemirror_mode": {
    "name": "ipython",
    "version": 3
   },
   "file_extension": ".py",
   "mimetype": "text/x-python",
   "name": "python",
   "nbconvert_exporter": "python",
   "pygments_lexer": "ipython3",
   "version": "3.6.4"
  }
 },
 "nbformat": 4,
 "nbformat_minor": 2
}
