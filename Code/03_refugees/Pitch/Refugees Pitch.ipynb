{
 "cells": [
  {
   "cell_type": "code",
   "execution_count": 1,
   "metadata": {},
   "outputs": [],
   "source": [
    "import pandas as pd\n",
    "import re\n",
    "import matplotlib.pyplot as plt\n",
    "from cycler import cycler\n",
    "\n",
    "%matplotlib inline"
   ]
  },
  {
   "cell_type": "code",
   "execution_count": 2,
   "metadata": {},
   "outputs": [],
   "source": [
    "plt.rcParams.update({\n",
    "    'pdf.fonttype': 42,\n",
    "    'axes.prop_cycle': cycler('color', ['#333333', '#006699']),\n",
    "    'ps.fonttype': 42,\n",
    "    'axes.facecolor': 'whitesmoke',\n",
    "    'figure.facecolor': 'whitesmoke',\n",
    "    'axes.spines.left' : True,\n",
    "    'axes.spines.right' : False,\n",
    "    'axes.spines.top' : False,\n",
    "    'axes.spines.bottom' : False,\n",
    "    'font.family': 'sans',\n",
    "    'font.sans-serif': 'RobotoCondensed-Bold',\n",
    "    'font.serif': 'Lora-Regular',\n",
    "    'axes.titlesize': 'x-large',\n",
    "    'axes.titleweight': 'bold',\n",
    "    'axes.grid': True,\n",
    "    'grid.color': 'silver',\n",
    "    'axes.axisbelow': True,\n",
    "    'xtick.bottom' : False,\n",
    "    'ytick.left' : False,\n",
    "    'axes.titlepad' : 15.0,\n",
    "    'legend.frameon' : False,\n",
    "    'ytick.labelsize': 15,\n",
    "    'xtick.labelsize': 15,\n",
    "    'axes.titlesize': 30\n",
    "    \n",
    "})"
   ]
  },
  {
   "cell_type": "code",
   "execution_count": 3,
   "metadata": {},
   "outputs": [
    {
     "data": {
      "text/html": [
       "<div>\n",
       "<style scoped>\n",
       "    .dataframe tbody tr th:only-of-type {\n",
       "        vertical-align: middle;\n",
       "    }\n",
       "\n",
       "    .dataframe tbody tr th {\n",
       "        vertical-align: top;\n",
       "    }\n",
       "\n",
       "    .dataframe thead th {\n",
       "        text-align: right;\n",
       "    }\n",
       "</style>\n",
       "<table border=\"1\" class=\"dataframe\">\n",
       "  <thead>\n",
       "    <tr style=\"text-align: right;\">\n",
       "      <th></th>\n",
       "      <th>found dead</th>\n",
       "      <th>number</th>\n",
       "      <th>name, gender, age</th>\n",
       "      <th>region of origin</th>\n",
       "      <th>cause of death</th>\n",
       "      <th>source</th>\n",
       "      <th>country of incident</th>\n",
       "    </tr>\n",
       "  </thead>\n",
       "  <tbody>\n",
       "    <tr>\n",
       "      <th>0</th>\n",
       "      <td>05/05/18</td>\n",
       "      <td>4.0</td>\n",
       "      <td>N.N. (1 man)</td>\n",
       "      <td>Africa</td>\n",
       "      <td>1 died off coast of Tripoli (LY) after Libyan ...</td>\n",
       "      <td>AFP/IOM Libya/BangkokPost</td>\n",
       "      <td>Libya</td>\n",
       "    </tr>\n",
       "    <tr>\n",
       "      <th>1</th>\n",
       "      <td>30/04/18</td>\n",
       "      <td>2.0</td>\n",
       "      <td>N.N. (2 men)</td>\n",
       "      <td>unknown</td>\n",
       "      <td>bodies recovered in Gasr Garabulli (aka Castel...</td>\n",
       "      <td>IOM Libya</td>\n",
       "      <td>Libya</td>\n",
       "    </tr>\n",
       "    <tr>\n",
       "      <th>2</th>\n",
       "      <td>30/04/18</td>\n",
       "      <td>1.0</td>\n",
       "      <td>N.N. (woman)</td>\n",
       "      <td>unknown</td>\n",
       "      <td>body recovered on Tajoura beach (LY)</td>\n",
       "      <td>IOM Libya</td>\n",
       "      <td>Libya</td>\n",
       "    </tr>\n",
       "    <tr>\n",
       "      <th>3</th>\n",
       "      <td>30/04/18</td>\n",
       "      <td>6.0</td>\n",
       "      <td>N.N. (1 baby; 5 men)</td>\n",
       "      <td>unknown</td>\n",
       "      <td>bodies recovered in Zuwara (LY)</td>\n",
       "      <td>IOM Libya</td>\n",
       "      <td>Libya</td>\n",
       "    </tr>\n",
       "    <tr>\n",
       "      <th>4</th>\n",
       "      <td>30/04/18</td>\n",
       "      <td>1.0</td>\n",
       "      <td>N.N. (man)</td>\n",
       "      <td>Algeria</td>\n",
       "      <td>drowned trying to swim across the Kolpa River ...</td>\n",
       "      <td>IOM Slovenia/TotSloveniaNews</td>\n",
       "      <td>unknown</td>\n",
       "    </tr>\n",
       "  </tbody>\n",
       "</table>\n",
       "</div>"
      ],
      "text/plain": [
       "  found dead  number     name, gender, age region of origin  \\\n",
       "0   05/05/18     4.0          N.N. (1 man)           Africa   \n",
       "1   30/04/18     2.0          N.N. (2 men)          unknown   \n",
       "2   30/04/18     1.0          N.N. (woman)          unknown   \n",
       "3   30/04/18     6.0  N.N. (1 baby; 5 men)          unknown   \n",
       "4   30/04/18     1.0            N.N. (man)          Algeria   \n",
       "\n",
       "                                      cause of death  \\\n",
       "0  1 died off coast of Tripoli (LY) after Libyan ...   \n",
       "1  bodies recovered in Gasr Garabulli (aka Castel...   \n",
       "2               body recovered on Tajoura beach (LY)   \n",
       "3                    bodies recovered in Zuwara (LY)   \n",
       "4  drowned trying to swim across the Kolpa River ...   \n",
       "\n",
       "                         source country of incident  \n",
       "0     AFP/IOM Libya/BangkokPost               Libya  \n",
       "1                     IOM Libya               Libya  \n",
       "2                     IOM Libya               Libya  \n",
       "3                     IOM Libya               Libya  \n",
       "4  IOM Slovenia/TotSloveniaNews             unknown  "
      ]
     },
     "execution_count": 3,
     "metadata": {},
     "output_type": "execute_result"
    }
   ],
   "source": [
    "df = pd.read_csv('refugeesAndMigrants.csv')\n",
    "df.head()"
   ]
  },
  {
   "cell_type": "code",
   "execution_count": 4,
   "metadata": {},
   "outputs": [
    {
     "data": {
      "text/plain": [
       "'1993'"
      ]
     },
     "execution_count": 4,
     "metadata": {},
     "output_type": "execute_result"
    }
   ],
   "source": [
    "## Remove row with all null values\n",
    "\n",
    "df[df['found dead'].isnull()]\n",
    "\n",
    "df['found dead'][3927]"
   ]
  },
  {
   "cell_type": "code",
   "execution_count": 5,
   "metadata": {},
   "outputs": [],
   "source": [
    "df.drop(labels=3931, axis=0, inplace=True)"
   ]
  },
  {
   "cell_type": "code",
   "execution_count": 6,
   "metadata": {},
   "outputs": [],
   "source": [
    "df.number = df.number.astype(int)"
   ]
  },
  {
   "cell_type": "code",
   "execution_count": 7,
   "metadata": {},
   "outputs": [
    {
     "data": {
      "text/plain": [
       "found dead             object\n",
       "number                  int64\n",
       "name, gender, age      object\n",
       "region of origin       object\n",
       "cause of death         object\n",
       "source                 object\n",
       "country of incident    object\n",
       "dtype: object"
      ]
     },
     "execution_count": 7,
     "metadata": {},
     "output_type": "execute_result"
    }
   ],
   "source": [
    "df.dtypes"
   ]
  },
  {
   "cell_type": "markdown",
   "metadata": {},
   "source": [
    "### Can't build a datetime series bc this data is inconsistent. Going to do some cleaning"
   ]
  },
  {
   "cell_type": "code",
   "execution_count": 8,
   "metadata": {},
   "outputs": [],
   "source": [
    "df['year'] = df['found dead'].str.extract(r\"(\\d+)$\")"
   ]
  },
  {
   "cell_type": "code",
   "execution_count": 9,
   "metadata": {},
   "outputs": [],
   "source": [
    "df['year'] = df.year.astype(int)"
   ]
  },
  {
   "cell_type": "code",
   "execution_count": 10,
   "metadata": {},
   "outputs": [
    {
     "data": {
      "text/plain": [
       "False    3931\n",
       "Name: year, dtype: int64"
      ]
     },
     "execution_count": 10,
     "metadata": {},
     "output_type": "execute_result"
    }
   ],
   "source": [
    "df.year.isnull().value_counts()"
   ]
  },
  {
   "cell_type": "code",
   "execution_count": 11,
   "metadata": {},
   "outputs": [],
   "source": [
    "def clean_year(row):\n",
    "    if row['year'] < 100:\n",
    "        if row['year'] > 18:\n",
    "            row['year'] = '19' + str(row['year'])\n",
    "        else:\n",
    "            row['year'] = '20' + str(row['year'])\n",
    "    else:\n",
    "        row['year'] = str(row['year'])\n",
    "    return row['year']\n",
    "     \n",
    "            "
   ]
  },
  {
   "cell_type": "code",
   "execution_count": 12,
   "metadata": {},
   "outputs": [],
   "source": [
    "df['year_clean'] = df.apply(clean_year, axis=1)"
   ]
  },
  {
   "cell_type": "code",
   "execution_count": 13,
   "metadata": {},
   "outputs": [],
   "source": [
    "df['year_clean'] = df.year_clean.str.replace('209$', '2009')\n",
    "df['year_clean'] = df.year_clean.str.replace('208$', '2008')\n",
    "df['year_clean'] = df.year_clean.str.replace('207$', '2007')\n",
    "df['year_clean'] = df.year_clean.str.replace('206$', '2006')\n",
    "df['year_clean'] = df.year_clean.str.replace('205$', '2005')\n",
    "df['year_clean'] = df.year_clean.str.replace('204$', '2004')\n",
    "df['year_clean'] = df.year_clean.str.replace('203$', '2003')\n",
    "df['year_clean'] = df.year_clean.str.replace('202$', '2002')\n",
    "df['year_clean'] = df.year_clean.str.replace('201$', '2001')\n",
    "df['year_clean'] = df.year_clean.str.replace('200$', '2000')"
   ]
  },
  {
   "cell_type": "code",
   "execution_count": 14,
   "metadata": {},
   "outputs": [
    {
     "data": {
      "text/plain": [
       "3931"
      ]
     },
     "execution_count": 14,
     "metadata": {},
     "output_type": "execute_result"
    }
   ],
   "source": [
    "df.year_clean.value_counts().sum()"
   ]
  },
  {
   "cell_type": "markdown",
   "metadata": {},
   "source": [
    "### Now I've got a structured year for each entry, moving on to the month"
   ]
  },
  {
   "cell_type": "code",
   "execution_count": 15,
   "metadata": {},
   "outputs": [],
   "source": [
    "df['month'] = df['found dead'].str.extract(r\"(\\d\\d)[/]\\d+$\")"
   ]
  },
  {
   "cell_type": "code",
   "execution_count": 16,
   "metadata": {},
   "outputs": [],
   "source": [
    "df['month_alt'] = df[df.month.isnull()]['found dead'].str.extract(r\"(\\w+) \\d\\d\")"
   ]
  },
  {
   "cell_type": "code",
   "execution_count": 17,
   "metadata": {},
   "outputs": [
    {
     "data": {
      "text/plain": [
       "Mar    53\n",
       "Oct    52\n",
       "Aug    47\n",
       "Jan    44\n",
       "Nov    44\n",
       "Dec    36\n",
       "Jul    35\n",
       "Sep    32\n",
       "May    30\n",
       "Feb    28\n",
       "Jun    28\n",
       "Apr    26\n",
       "Name: month_alt, dtype: int64"
      ]
     },
     "execution_count": 17,
     "metadata": {},
     "output_type": "execute_result"
    }
   ],
   "source": [
    "df.month_alt.value_counts()"
   ]
  },
  {
   "cell_type": "code",
   "execution_count": 18,
   "metadata": {},
   "outputs": [],
   "source": [
    "def month_alt_clean(row):\n",
    "    if row['month_alt'] == 'Mar':\n",
    "        row['month_alt'] = '03'\n",
    "    elif row['month_alt'] == 'Oct':\n",
    "        row['month_alt'] = '10'\n",
    "    elif row['month_alt'] == 'Aug':\n",
    "        row['month_alt'] = '08'\n",
    "    elif row['month_alt'] == 'Jan':\n",
    "        row['month_alt'] = '01'\n",
    "    elif row['month_alt'] == 'Nov':\n",
    "        row['month_alt'] = '11'\n",
    "    elif row['month_alt'] == 'Dec':\n",
    "        row['month_alt'] = '12'\n",
    "    elif row['month_alt'] == 'Jul':\n",
    "        row['month_alt'] = '07'\n",
    "    elif row['month_alt'] == 'Sep':\n",
    "        row['month_alt'] = '09'\n",
    "    elif row['month_alt'] == 'May':\n",
    "        row['month_alt'] = '05'\n",
    "    elif row['month_alt'] == 'Jun':\n",
    "        row['month_alt'] = '06'\n",
    "    elif row['month_alt'] == 'Feb':\n",
    "        row['month_alt'] = '02'\n",
    "    elif row['month_alt'] == 'Apr':\n",
    "        row['month_alt'] = '04'\n",
    "    return row['month_alt']\n",
    "    "
   ]
  },
  {
   "cell_type": "code",
   "execution_count": 19,
   "metadata": {},
   "outputs": [],
   "source": [
    "df['month_alt_clean'] = df.apply(month_alt_clean, axis=1)"
   ]
  },
  {
   "cell_type": "code",
   "execution_count": 20,
   "metadata": {},
   "outputs": [
    {
     "data": {
      "text/plain": [
       "03    53\n",
       "10    52\n",
       "08    47\n",
       "11    44\n",
       "01    44\n",
       "12    36\n",
       "07    35\n",
       "09    32\n",
       "05    30\n",
       "06    28\n",
       "02    28\n",
       "04    26\n",
       "Name: month_alt_clean, dtype: int64"
      ]
     },
     "execution_count": 20,
     "metadata": {},
     "output_type": "execute_result"
    }
   ],
   "source": [
    "df.month_alt_clean.value_counts()"
   ]
  },
  {
   "cell_type": "code",
   "execution_count": 21,
   "metadata": {},
   "outputs": [
    {
     "data": {
      "text/html": [
       "<div>\n",
       "<style scoped>\n",
       "    .dataframe tbody tr th:only-of-type {\n",
       "        vertical-align: middle;\n",
       "    }\n",
       "\n",
       "    .dataframe tbody tr th {\n",
       "        vertical-align: top;\n",
       "    }\n",
       "\n",
       "    .dataframe thead th {\n",
       "        text-align: right;\n",
       "    }\n",
       "</style>\n",
       "<table border=\"1\" class=\"dataframe\">\n",
       "  <thead>\n",
       "    <tr style=\"text-align: right;\">\n",
       "      <th></th>\n",
       "      <th>found dead</th>\n",
       "      <th>number</th>\n",
       "      <th>name, gender, age</th>\n",
       "      <th>region of origin</th>\n",
       "      <th>cause of death</th>\n",
       "      <th>source</th>\n",
       "      <th>country of incident</th>\n",
       "      <th>year</th>\n",
       "      <th>year_clean</th>\n",
       "      <th>month</th>\n",
       "      <th>month_alt</th>\n",
       "      <th>month_alt_clean</th>\n",
       "    </tr>\n",
       "  </thead>\n",
       "  <tbody>\n",
       "    <tr>\n",
       "      <th>0</th>\n",
       "      <td>05/05/18</td>\n",
       "      <td>4</td>\n",
       "      <td>N.N. (1 man)</td>\n",
       "      <td>Africa</td>\n",
       "      <td>1 died off coast of Tripoli (LY) after Libyan ...</td>\n",
       "      <td>AFP/IOM Libya/BangkokPost</td>\n",
       "      <td>Libya</td>\n",
       "      <td>18</td>\n",
       "      <td>2018</td>\n",
       "      <td>05</td>\n",
       "      <td>NaN</td>\n",
       "      <td>NaN</td>\n",
       "    </tr>\n",
       "    <tr>\n",
       "      <th>1</th>\n",
       "      <td>30/04/18</td>\n",
       "      <td>2</td>\n",
       "      <td>N.N. (2 men)</td>\n",
       "      <td>unknown</td>\n",
       "      <td>bodies recovered in Gasr Garabulli (aka Castel...</td>\n",
       "      <td>IOM Libya</td>\n",
       "      <td>Libya</td>\n",
       "      <td>18</td>\n",
       "      <td>2018</td>\n",
       "      <td>04</td>\n",
       "      <td>NaN</td>\n",
       "      <td>NaN</td>\n",
       "    </tr>\n",
       "    <tr>\n",
       "      <th>2</th>\n",
       "      <td>30/04/18</td>\n",
       "      <td>1</td>\n",
       "      <td>N.N. (woman)</td>\n",
       "      <td>unknown</td>\n",
       "      <td>body recovered on Tajoura beach (LY)</td>\n",
       "      <td>IOM Libya</td>\n",
       "      <td>Libya</td>\n",
       "      <td>18</td>\n",
       "      <td>2018</td>\n",
       "      <td>04</td>\n",
       "      <td>NaN</td>\n",
       "      <td>NaN</td>\n",
       "    </tr>\n",
       "    <tr>\n",
       "      <th>3</th>\n",
       "      <td>30/04/18</td>\n",
       "      <td>6</td>\n",
       "      <td>N.N. (1 baby; 5 men)</td>\n",
       "      <td>unknown</td>\n",
       "      <td>bodies recovered in Zuwara (LY)</td>\n",
       "      <td>IOM Libya</td>\n",
       "      <td>Libya</td>\n",
       "      <td>18</td>\n",
       "      <td>2018</td>\n",
       "      <td>04</td>\n",
       "      <td>NaN</td>\n",
       "      <td>NaN</td>\n",
       "    </tr>\n",
       "    <tr>\n",
       "      <th>4</th>\n",
       "      <td>30/04/18</td>\n",
       "      <td>1</td>\n",
       "      <td>N.N. (man)</td>\n",
       "      <td>Algeria</td>\n",
       "      <td>drowned trying to swim across the Kolpa River ...</td>\n",
       "      <td>IOM Slovenia/TotSloveniaNews</td>\n",
       "      <td>unknown</td>\n",
       "      <td>18</td>\n",
       "      <td>2018</td>\n",
       "      <td>04</td>\n",
       "      <td>NaN</td>\n",
       "      <td>NaN</td>\n",
       "    </tr>\n",
       "  </tbody>\n",
       "</table>\n",
       "</div>"
      ],
      "text/plain": [
       "  found dead  number     name, gender, age region of origin  \\\n",
       "0   05/05/18       4          N.N. (1 man)           Africa   \n",
       "1   30/04/18       2          N.N. (2 men)          unknown   \n",
       "2   30/04/18       1          N.N. (woman)          unknown   \n",
       "3   30/04/18       6  N.N. (1 baby; 5 men)          unknown   \n",
       "4   30/04/18       1            N.N. (man)          Algeria   \n",
       "\n",
       "                                      cause of death  \\\n",
       "0  1 died off coast of Tripoli (LY) after Libyan ...   \n",
       "1  bodies recovered in Gasr Garabulli (aka Castel...   \n",
       "2               body recovered on Tajoura beach (LY)   \n",
       "3                    bodies recovered in Zuwara (LY)   \n",
       "4  drowned trying to swim across the Kolpa River ...   \n",
       "\n",
       "                         source country of incident  year year_clean month  \\\n",
       "0     AFP/IOM Libya/BangkokPost               Libya    18       2018    05   \n",
       "1                     IOM Libya               Libya    18       2018    04   \n",
       "2                     IOM Libya               Libya    18       2018    04   \n",
       "3                     IOM Libya               Libya    18       2018    04   \n",
       "4  IOM Slovenia/TotSloveniaNews             unknown    18       2018    04   \n",
       "\n",
       "  month_alt month_alt_clean  \n",
       "0       NaN             NaN  \n",
       "1       NaN             NaN  \n",
       "2       NaN             NaN  \n",
       "3       NaN             NaN  \n",
       "4       NaN             NaN  "
      ]
     },
     "execution_count": 21,
     "metadata": {},
     "output_type": "execute_result"
    }
   ],
   "source": [
    "df.head()"
   ]
  },
  {
   "cell_type": "code",
   "execution_count": 22,
   "metadata": {},
   "outputs": [],
   "source": [
    "df.month.fillna(df.month_alt_clean, inplace=True)"
   ]
  },
  {
   "cell_type": "code",
   "execution_count": 23,
   "metadata": {},
   "outputs": [],
   "source": [
    "# There are still 55 months missing, so just going to fill those in with January\n",
    "\n",
    "df.month.fillna('01', inplace=True)"
   ]
  },
  {
   "cell_type": "markdown",
   "metadata": {},
   "source": [
    "## Time to get the day, and fill in the day with '01' where there isn't one"
   ]
  },
  {
   "cell_type": "code",
   "execution_count": 24,
   "metadata": {},
   "outputs": [],
   "source": [
    "df['day'] = df['found dead'].str.extract(r\"(\\d\\d)[/]\\d\\d[/]\\d+$\")"
   ]
  },
  {
   "cell_type": "code",
   "execution_count": 25,
   "metadata": {},
   "outputs": [],
   "source": [
    "df.day.fillna('01', inplace=True)"
   ]
  },
  {
   "cell_type": "code",
   "execution_count": 26,
   "metadata": {},
   "outputs": [
    {
     "data": {
      "text/plain": [
       "found dead             object\n",
       "number                  int64\n",
       "name, gender, age      object\n",
       "region of origin       object\n",
       "cause of death         object\n",
       "source                 object\n",
       "country of incident    object\n",
       "year                    int64\n",
       "year_clean             object\n",
       "month                  object\n",
       "month_alt              object\n",
       "month_alt_clean        object\n",
       "day                    object\n",
       "dtype: object"
      ]
     },
     "execution_count": 26,
     "metadata": {},
     "output_type": "execute_result"
    }
   ],
   "source": [
    "df.dtypes"
   ]
  },
  {
   "cell_type": "code",
   "execution_count": 27,
   "metadata": {},
   "outputs": [],
   "source": [
    "def clean_date(row): \n",
    "    row['found_date_clean'] = (str(row['day']) + '/' + str(row['month']) + '/' +  str(row['year_clean']))\n",
    "    return row['found_date_clean']"
   ]
  },
  {
   "cell_type": "code",
   "execution_count": 28,
   "metadata": {},
   "outputs": [],
   "source": [
    "df['found_date_clean'] = df.apply(clean_date, axis=1)"
   ]
  },
  {
   "cell_type": "code",
   "execution_count": 29,
   "metadata": {},
   "outputs": [
    {
     "data": {
      "text/plain": [
       "19/06/2000    58\n",
       "04/02/2018    39\n",
       "23/04/2007    32\n",
       "01/11/2015    23\n",
       "15/07/1995    18\n",
       "01/01/1999    14\n",
       "01/03/2008    12\n",
       "22/04/2008    11\n",
       "26/10/2005    11\n",
       "01/10/2002    10\n",
       "01/01/1994    10\n",
       "18/01/1996    10\n",
       "01/03/2000    10\n",
       "01/10/2015     9\n",
       "28/10/2015     9\n",
       "01/01/1997     9\n",
       "01/09/2002     9\n",
       "01/01/2000     9\n",
       "01/03/2002     8\n",
       "13/02/2018     8\n",
       "01/01/2017     8\n",
       "01/08/2006     8\n",
       "25/07/2013     8\n",
       "04/09/1994     8\n",
       "08/12/2001     8\n",
       "01/08/2004     7\n",
       "01/09/2008     7\n",
       "01/01/2002     7\n",
       "01/07/2002     7\n",
       "01/01/1993     7\n",
       "              ..\n",
       "08/11/2012     1\n",
       "12/10/1999     1\n",
       "09/07/2004     1\n",
       "15/08/2015     1\n",
       "23/04/1996     1\n",
       "27/06/2017     1\n",
       "19/11/2012     1\n",
       "10/05/2000     1\n",
       "14/04/2006     1\n",
       "27/06/2001     1\n",
       "25/11/2008     1\n",
       "18/02/2006     1\n",
       "29/07/2011     1\n",
       "17/12/2001     1\n",
       "10/06/1997     1\n",
       "12/01/2004     1\n",
       "28/01/2018     1\n",
       "04/03/2006     1\n",
       "02/06/2000     1\n",
       "15/11/2005     1\n",
       "03/09/2000     1\n",
       "21/06/2008     1\n",
       "09/07/2012     1\n",
       "25/07/2009     1\n",
       "17/06/1993     1\n",
       "21/08/2014     1\n",
       "15/12/2009     1\n",
       "27/02/2018     1\n",
       "03/02/2003     1\n",
       "19/01/2005     1\n",
       "Name: found_date_clean, Length: 2407, dtype: int64"
      ]
     },
     "execution_count": 29,
     "metadata": {},
     "output_type": "execute_result"
    }
   ],
   "source": [
    "df.found_date_clean.value_counts()"
   ]
  },
  {
   "cell_type": "markdown",
   "metadata": {},
   "source": [
    "# Now to make a timeseries"
   ]
  },
  {
   "cell_type": "code",
   "execution_count": 30,
   "metadata": {},
   "outputs": [
    {
     "data": {
      "text/html": [
       "<div>\n",
       "<style scoped>\n",
       "    .dataframe tbody tr th:only-of-type {\n",
       "        vertical-align: middle;\n",
       "    }\n",
       "\n",
       "    .dataframe tbody tr th {\n",
       "        vertical-align: top;\n",
       "    }\n",
       "\n",
       "    .dataframe thead th {\n",
       "        text-align: right;\n",
       "    }\n",
       "</style>\n",
       "<table border=\"1\" class=\"dataframe\">\n",
       "  <thead>\n",
       "    <tr style=\"text-align: right;\">\n",
       "      <th></th>\n",
       "      <th>found dead</th>\n",
       "      <th>number</th>\n",
       "      <th>name, gender, age</th>\n",
       "      <th>region of origin</th>\n",
       "      <th>cause of death</th>\n",
       "      <th>source</th>\n",
       "      <th>country of incident</th>\n",
       "      <th>year</th>\n",
       "      <th>year_clean</th>\n",
       "      <th>month</th>\n",
       "      <th>month_alt</th>\n",
       "      <th>month_alt_clean</th>\n",
       "      <th>day</th>\n",
       "      <th>found_date_clean</th>\n",
       "      <th>datetime</th>\n",
       "    </tr>\n",
       "  </thead>\n",
       "  <tbody>\n",
       "    <tr>\n",
       "      <th>0</th>\n",
       "      <td>05/05/18</td>\n",
       "      <td>4</td>\n",
       "      <td>N.N. (1 man)</td>\n",
       "      <td>Africa</td>\n",
       "      <td>1 died off coast of Tripoli (LY) after Libyan ...</td>\n",
       "      <td>AFP/IOM Libya/BangkokPost</td>\n",
       "      <td>Libya</td>\n",
       "      <td>18</td>\n",
       "      <td>2018</td>\n",
       "      <td>05</td>\n",
       "      <td>NaN</td>\n",
       "      <td>NaN</td>\n",
       "      <td>05</td>\n",
       "      <td>05/05/2018</td>\n",
       "      <td>2018-05-05</td>\n",
       "    </tr>\n",
       "    <tr>\n",
       "      <th>1</th>\n",
       "      <td>30/04/18</td>\n",
       "      <td>2</td>\n",
       "      <td>N.N. (2 men)</td>\n",
       "      <td>unknown</td>\n",
       "      <td>bodies recovered in Gasr Garabulli (aka Castel...</td>\n",
       "      <td>IOM Libya</td>\n",
       "      <td>Libya</td>\n",
       "      <td>18</td>\n",
       "      <td>2018</td>\n",
       "      <td>04</td>\n",
       "      <td>NaN</td>\n",
       "      <td>NaN</td>\n",
       "      <td>30</td>\n",
       "      <td>30/04/2018</td>\n",
       "      <td>2018-04-30</td>\n",
       "    </tr>\n",
       "    <tr>\n",
       "      <th>2</th>\n",
       "      <td>30/04/18</td>\n",
       "      <td>1</td>\n",
       "      <td>N.N. (woman)</td>\n",
       "      <td>unknown</td>\n",
       "      <td>body recovered on Tajoura beach (LY)</td>\n",
       "      <td>IOM Libya</td>\n",
       "      <td>Libya</td>\n",
       "      <td>18</td>\n",
       "      <td>2018</td>\n",
       "      <td>04</td>\n",
       "      <td>NaN</td>\n",
       "      <td>NaN</td>\n",
       "      <td>30</td>\n",
       "      <td>30/04/2018</td>\n",
       "      <td>2018-04-30</td>\n",
       "    </tr>\n",
       "    <tr>\n",
       "      <th>3</th>\n",
       "      <td>30/04/18</td>\n",
       "      <td>6</td>\n",
       "      <td>N.N. (1 baby; 5 men)</td>\n",
       "      <td>unknown</td>\n",
       "      <td>bodies recovered in Zuwara (LY)</td>\n",
       "      <td>IOM Libya</td>\n",
       "      <td>Libya</td>\n",
       "      <td>18</td>\n",
       "      <td>2018</td>\n",
       "      <td>04</td>\n",
       "      <td>NaN</td>\n",
       "      <td>NaN</td>\n",
       "      <td>30</td>\n",
       "      <td>30/04/2018</td>\n",
       "      <td>2018-04-30</td>\n",
       "    </tr>\n",
       "    <tr>\n",
       "      <th>4</th>\n",
       "      <td>30/04/18</td>\n",
       "      <td>1</td>\n",
       "      <td>N.N. (man)</td>\n",
       "      <td>Algeria</td>\n",
       "      <td>drowned trying to swim across the Kolpa River ...</td>\n",
       "      <td>IOM Slovenia/TotSloveniaNews</td>\n",
       "      <td>unknown</td>\n",
       "      <td>18</td>\n",
       "      <td>2018</td>\n",
       "      <td>04</td>\n",
       "      <td>NaN</td>\n",
       "      <td>NaN</td>\n",
       "      <td>30</td>\n",
       "      <td>30/04/2018</td>\n",
       "      <td>2018-04-30</td>\n",
       "    </tr>\n",
       "  </tbody>\n",
       "</table>\n",
       "</div>"
      ],
      "text/plain": [
       "  found dead  number     name, gender, age region of origin  \\\n",
       "0   05/05/18       4          N.N. (1 man)           Africa   \n",
       "1   30/04/18       2          N.N. (2 men)          unknown   \n",
       "2   30/04/18       1          N.N. (woman)          unknown   \n",
       "3   30/04/18       6  N.N. (1 baby; 5 men)          unknown   \n",
       "4   30/04/18       1            N.N. (man)          Algeria   \n",
       "\n",
       "                                      cause of death  \\\n",
       "0  1 died off coast of Tripoli (LY) after Libyan ...   \n",
       "1  bodies recovered in Gasr Garabulli (aka Castel...   \n",
       "2               body recovered on Tajoura beach (LY)   \n",
       "3                    bodies recovered in Zuwara (LY)   \n",
       "4  drowned trying to swim across the Kolpa River ...   \n",
       "\n",
       "                         source country of incident  year year_clean month  \\\n",
       "0     AFP/IOM Libya/BangkokPost               Libya    18       2018    05   \n",
       "1                     IOM Libya               Libya    18       2018    04   \n",
       "2                     IOM Libya               Libya    18       2018    04   \n",
       "3                     IOM Libya               Libya    18       2018    04   \n",
       "4  IOM Slovenia/TotSloveniaNews             unknown    18       2018    04   \n",
       "\n",
       "  month_alt month_alt_clean day found_date_clean   datetime  \n",
       "0       NaN             NaN  05       05/05/2018 2018-05-05  \n",
       "1       NaN             NaN  30       30/04/2018 2018-04-30  \n",
       "2       NaN             NaN  30       30/04/2018 2018-04-30  \n",
       "3       NaN             NaN  30       30/04/2018 2018-04-30  \n",
       "4       NaN             NaN  30       30/04/2018 2018-04-30  "
      ]
     },
     "execution_count": 30,
     "metadata": {},
     "output_type": "execute_result"
    }
   ],
   "source": [
    "df['datetime'] = pd.to_datetime(df['found_date_clean'], format=\"%d/%m/%Y\")\n",
    "df.head()"
   ]
  },
  {
   "cell_type": "code",
   "execution_count": 31,
   "metadata": {},
   "outputs": [],
   "source": [
    "df_clean = df.drop(columns=['year', 'month', 'month_alt', 'month_alt_clean', 'day', 'found_date_clean'])"
   ]
  },
  {
   "cell_type": "code",
   "execution_count": 32,
   "metadata": {},
   "outputs": [
    {
     "data": {
      "text/html": [
       "<div>\n",
       "<style scoped>\n",
       "    .dataframe tbody tr th:only-of-type {\n",
       "        vertical-align: middle;\n",
       "    }\n",
       "\n",
       "    .dataframe tbody tr th {\n",
       "        vertical-align: top;\n",
       "    }\n",
       "\n",
       "    .dataframe thead th {\n",
       "        text-align: right;\n",
       "    }\n",
       "</style>\n",
       "<table border=\"1\" class=\"dataframe\">\n",
       "  <thead>\n",
       "    <tr style=\"text-align: right;\">\n",
       "      <th></th>\n",
       "      <th>found dead</th>\n",
       "      <th>number</th>\n",
       "      <th>name, gender, age</th>\n",
       "      <th>region of origin</th>\n",
       "      <th>cause of death</th>\n",
       "      <th>source</th>\n",
       "      <th>country of incident</th>\n",
       "      <th>year_clean</th>\n",
       "      <th>datetime</th>\n",
       "    </tr>\n",
       "  </thead>\n",
       "  <tbody>\n",
       "    <tr>\n",
       "      <th>0</th>\n",
       "      <td>05/05/18</td>\n",
       "      <td>4</td>\n",
       "      <td>N.N. (1 man)</td>\n",
       "      <td>Africa</td>\n",
       "      <td>1 died off coast of Tripoli (LY) after Libyan ...</td>\n",
       "      <td>AFP/IOM Libya/BangkokPost</td>\n",
       "      <td>Libya</td>\n",
       "      <td>2018</td>\n",
       "      <td>2018-05-05</td>\n",
       "    </tr>\n",
       "    <tr>\n",
       "      <th>1</th>\n",
       "      <td>30/04/18</td>\n",
       "      <td>2</td>\n",
       "      <td>N.N. (2 men)</td>\n",
       "      <td>unknown</td>\n",
       "      <td>bodies recovered in Gasr Garabulli (aka Castel...</td>\n",
       "      <td>IOM Libya</td>\n",
       "      <td>Libya</td>\n",
       "      <td>2018</td>\n",
       "      <td>2018-04-30</td>\n",
       "    </tr>\n",
       "    <tr>\n",
       "      <th>2</th>\n",
       "      <td>30/04/18</td>\n",
       "      <td>1</td>\n",
       "      <td>N.N. (woman)</td>\n",
       "      <td>unknown</td>\n",
       "      <td>body recovered on Tajoura beach (LY)</td>\n",
       "      <td>IOM Libya</td>\n",
       "      <td>Libya</td>\n",
       "      <td>2018</td>\n",
       "      <td>2018-04-30</td>\n",
       "    </tr>\n",
       "    <tr>\n",
       "      <th>3</th>\n",
       "      <td>30/04/18</td>\n",
       "      <td>6</td>\n",
       "      <td>N.N. (1 baby; 5 men)</td>\n",
       "      <td>unknown</td>\n",
       "      <td>bodies recovered in Zuwara (LY)</td>\n",
       "      <td>IOM Libya</td>\n",
       "      <td>Libya</td>\n",
       "      <td>2018</td>\n",
       "      <td>2018-04-30</td>\n",
       "    </tr>\n",
       "    <tr>\n",
       "      <th>4</th>\n",
       "      <td>30/04/18</td>\n",
       "      <td>1</td>\n",
       "      <td>N.N. (man)</td>\n",
       "      <td>Algeria</td>\n",
       "      <td>drowned trying to swim across the Kolpa River ...</td>\n",
       "      <td>IOM Slovenia/TotSloveniaNews</td>\n",
       "      <td>unknown</td>\n",
       "      <td>2018</td>\n",
       "      <td>2018-04-30</td>\n",
       "    </tr>\n",
       "  </tbody>\n",
       "</table>\n",
       "</div>"
      ],
      "text/plain": [
       "  found dead  number     name, gender, age region of origin  \\\n",
       "0   05/05/18       4          N.N. (1 man)           Africa   \n",
       "1   30/04/18       2          N.N. (2 men)          unknown   \n",
       "2   30/04/18       1          N.N. (woman)          unknown   \n",
       "3   30/04/18       6  N.N. (1 baby; 5 men)          unknown   \n",
       "4   30/04/18       1            N.N. (man)          Algeria   \n",
       "\n",
       "                                      cause of death  \\\n",
       "0  1 died off coast of Tripoli (LY) after Libyan ...   \n",
       "1  bodies recovered in Gasr Garabulli (aka Castel...   \n",
       "2               body recovered on Tajoura beach (LY)   \n",
       "3                    bodies recovered in Zuwara (LY)   \n",
       "4  drowned trying to swim across the Kolpa River ...   \n",
       "\n",
       "                         source country of incident year_clean   datetime  \n",
       "0     AFP/IOM Libya/BangkokPost               Libya       2018 2018-05-05  \n",
       "1                     IOM Libya               Libya       2018 2018-04-30  \n",
       "2                     IOM Libya               Libya       2018 2018-04-30  \n",
       "3                     IOM Libya               Libya       2018 2018-04-30  \n",
       "4  IOM Slovenia/TotSloveniaNews             unknown       2018 2018-04-30  "
      ]
     },
     "execution_count": 32,
     "metadata": {},
     "output_type": "execute_result"
    }
   ],
   "source": [
    "df_clean.head()"
   ]
  },
  {
   "cell_type": "markdown",
   "metadata": {},
   "source": [
    "# Pause to save to csv"
   ]
  },
  {
   "cell_type": "code",
   "execution_count": 33,
   "metadata": {},
   "outputs": [],
   "source": [
    "df_clean.to_csv('refugees_with_datetime.csv', index=False)"
   ]
  },
  {
   "cell_type": "code",
   "execution_count": 34,
   "metadata": {},
   "outputs": [],
   "source": [
    "df = df_clean"
   ]
  },
  {
   "cell_type": "code",
   "execution_count": 35,
   "metadata": {},
   "outputs": [
    {
     "data": {
      "text/html": [
       "<div>\n",
       "<style scoped>\n",
       "    .dataframe tbody tr th:only-of-type {\n",
       "        vertical-align: middle;\n",
       "    }\n",
       "\n",
       "    .dataframe tbody tr th {\n",
       "        vertical-align: top;\n",
       "    }\n",
       "\n",
       "    .dataframe thead th {\n",
       "        text-align: right;\n",
       "    }\n",
       "</style>\n",
       "<table border=\"1\" class=\"dataframe\">\n",
       "  <thead>\n",
       "    <tr style=\"text-align: right;\">\n",
       "      <th></th>\n",
       "      <th>found dead</th>\n",
       "      <th>number</th>\n",
       "      <th>name, gender, age</th>\n",
       "      <th>region of origin</th>\n",
       "      <th>cause of death</th>\n",
       "      <th>source</th>\n",
       "      <th>country of incident</th>\n",
       "      <th>year_clean</th>\n",
       "      <th>datetime</th>\n",
       "    </tr>\n",
       "  </thead>\n",
       "  <tbody>\n",
       "    <tr>\n",
       "      <th>0</th>\n",
       "      <td>05/05/18</td>\n",
       "      <td>4</td>\n",
       "      <td>N.N. (1 man)</td>\n",
       "      <td>Africa</td>\n",
       "      <td>1 died off coast of Tripoli (LY) after Libyan ...</td>\n",
       "      <td>AFP/IOM Libya/BangkokPost</td>\n",
       "      <td>Libya</td>\n",
       "      <td>2018</td>\n",
       "      <td>2018-05-05</td>\n",
       "    </tr>\n",
       "    <tr>\n",
       "      <th>1</th>\n",
       "      <td>30/04/18</td>\n",
       "      <td>2</td>\n",
       "      <td>N.N. (2 men)</td>\n",
       "      <td>unknown</td>\n",
       "      <td>bodies recovered in Gasr Garabulli (aka Castel...</td>\n",
       "      <td>IOM Libya</td>\n",
       "      <td>Libya</td>\n",
       "      <td>2018</td>\n",
       "      <td>2018-04-30</td>\n",
       "    </tr>\n",
       "    <tr>\n",
       "      <th>2</th>\n",
       "      <td>30/04/18</td>\n",
       "      <td>1</td>\n",
       "      <td>N.N. (woman)</td>\n",
       "      <td>unknown</td>\n",
       "      <td>body recovered on Tajoura beach (LY)</td>\n",
       "      <td>IOM Libya</td>\n",
       "      <td>Libya</td>\n",
       "      <td>2018</td>\n",
       "      <td>2018-04-30</td>\n",
       "    </tr>\n",
       "    <tr>\n",
       "      <th>3</th>\n",
       "      <td>30/04/18</td>\n",
       "      <td>6</td>\n",
       "      <td>N.N. (1 baby; 5 men)</td>\n",
       "      <td>unknown</td>\n",
       "      <td>bodies recovered in Zuwara (LY)</td>\n",
       "      <td>IOM Libya</td>\n",
       "      <td>Libya</td>\n",
       "      <td>2018</td>\n",
       "      <td>2018-04-30</td>\n",
       "    </tr>\n",
       "    <tr>\n",
       "      <th>4</th>\n",
       "      <td>30/04/18</td>\n",
       "      <td>1</td>\n",
       "      <td>N.N. (man)</td>\n",
       "      <td>Algeria</td>\n",
       "      <td>drowned trying to swim across the Kolpa River ...</td>\n",
       "      <td>IOM Slovenia/TotSloveniaNews</td>\n",
       "      <td>unknown</td>\n",
       "      <td>2018</td>\n",
       "      <td>2018-04-30</td>\n",
       "    </tr>\n",
       "  </tbody>\n",
       "</table>\n",
       "</div>"
      ],
      "text/plain": [
       "  found dead  number     name, gender, age region of origin  \\\n",
       "0   05/05/18       4          N.N. (1 man)           Africa   \n",
       "1   30/04/18       2          N.N. (2 men)          unknown   \n",
       "2   30/04/18       1          N.N. (woman)          unknown   \n",
       "3   30/04/18       6  N.N. (1 baby; 5 men)          unknown   \n",
       "4   30/04/18       1            N.N. (man)          Algeria   \n",
       "\n",
       "                                      cause of death  \\\n",
       "0  1 died off coast of Tripoli (LY) after Libyan ...   \n",
       "1  bodies recovered in Gasr Garabulli (aka Castel...   \n",
       "2               body recovered on Tajoura beach (LY)   \n",
       "3                    bodies recovered in Zuwara (LY)   \n",
       "4  drowned trying to swim across the Kolpa River ...   \n",
       "\n",
       "                         source country of incident year_clean   datetime  \n",
       "0     AFP/IOM Libya/BangkokPost               Libya       2018 2018-05-05  \n",
       "1                     IOM Libya               Libya       2018 2018-04-30  \n",
       "2                     IOM Libya               Libya       2018 2018-04-30  \n",
       "3                     IOM Libya               Libya       2018 2018-04-30  \n",
       "4  IOM Slovenia/TotSloveniaNews             unknown       2018 2018-04-30  "
      ]
     },
     "execution_count": 35,
     "metadata": {},
     "output_type": "execute_result"
    }
   ],
   "source": [
    "df.head()"
   ]
  },
  {
   "cell_type": "code",
   "execution_count": 36,
   "metadata": {},
   "outputs": [
    {
     "data": {
      "text/plain": [
       "unknown                           1080\n",
       "Sub-Saharan Africa                 243\n",
       "Africa                             216\n",
       "Morocco                            145\n",
       "Afghanistan                        119\n",
       "Syria                              114\n",
       "North Africa                        93\n",
       "Algeria                             90\n",
       "China                               81\n",
       "Iraq                                80\n",
       "Kurdistan                           75\n",
       "Albania                             71\n",
       "Nigeria                             69\n",
       "Tunisia                             67\n",
       "Somalia                             64\n",
       "Sri Lanka                           60\n",
       "Senegal                             54\n",
       "Pakistan                            53\n",
       "Eritrea                             51\n",
       "Iran                                50\n",
       "Maghreb                             45\n",
       "Comoros                             44\n",
       "Turkey                              42\n",
       "Sudan                               30\n",
       "Romania                             30\n",
       "India                               29\n",
       "Ethiopia                            27\n",
       "Guinea                              27\n",
       "Congo                               25\n",
       "Kosovo                              24\n",
       "                                  ... \n",
       "Cameroon, Nigeria, Mali              1\n",
       "Pakistan, Asia                       1\n",
       "Syria, unknown                       1\n",
       "Syria, Cameroon, Congo               1\n",
       "Eritrea or Ethiopia                  1\n",
       "Iraq, Sudan, Somalia                 1\n",
       "Nigeria, Liberia                     1\n",
       "Iraq, Palestine, Somalia             1\n",
       "Iran, Iraq                           1\n",
       "Iraq, Algeria                        1\n",
       "Hungary                              1\n",
       "Georgia, unknown                     1\n",
       "Liberia, North Africa                1\n",
       "Egypt, Seneg, Nig, Som, Tun          1\n",
       "Mauritania, Senegal                  1\n",
       "Myanmar                              1\n",
       "Nigeria, Guin, Sierra L, Mali        1\n",
       "Uruguay                              1\n",
       "Egypt, Syria, Palestine              1\n",
       "Mali or Gabon                        1\n",
       "Iraq, Syria, Pakistan                1\n",
       "Moldova, Romania                     1\n",
       "New Zealand                          1\n",
       "Somalia, Palestine                   1\n",
       "Guinea, Mali, Seneg, Ivory C         1\n",
       "Eritrea, unknown                     1\n",
       "Eritrea, Somalia                     1\n",
       "Ethiopia, Nigeria, Eritrea           1\n",
       "Nigeria, Guinea, Mali, Ivory C       1\n",
       "Somalia, Afghanistan                 1\n",
       "Name: region of origin, Length: 244, dtype: int64"
      ]
     },
     "execution_count": 36,
     "metadata": {},
     "output_type": "execute_result"
    }
   ],
   "source": [
    "df['region of origin'].value_counts()"
   ]
  },
  {
   "cell_type": "markdown",
   "metadata": {},
   "source": [
    "### For my time plot, going to remove 2018"
   ]
  },
  {
   "cell_type": "code",
   "execution_count": 37,
   "metadata": {},
   "outputs": [],
   "source": [
    "df_no_2018 = df[~df.year_clean.str.contains('2018')]"
   ]
  },
  {
   "cell_type": "code",
   "execution_count": 38,
   "metadata": {},
   "outputs": [
    {
     "data": {
      "text/plain": [
       "'feared dead after they went missing from punctured smuggler’s dinghy with 150 aboard; 8 bodies found, 86 rescued'"
      ]
     },
     "execution_count": 38,
     "metadata": {},
     "output_type": "execute_result"
    }
   ],
   "source": [
    "df_no_2018['cause of death'][143]"
   ]
  },
  {
   "cell_type": "code",
   "execution_count": 39,
   "metadata": {},
   "outputs": [
    {
     "name": "stderr",
     "output_type": "stream",
     "text": [
      "/Users/kevinlitnav/.pyenv/versions/3.6.4/lib/python3.6/site-packages/pandas/core/generic.py:4401: SettingWithCopyWarning: \n",
      "A value is trying to be set on a copy of a slice from a DataFrame.\n",
      "Try using .loc[row_indexer,col_indexer] = value instead\n",
      "\n",
      "See the caveats in the documentation: http://pandas.pydata.org/pandas-docs/stable/indexing.html#indexing-view-versus-copy\n",
      "  self[name] = value\n"
     ]
    }
   ],
   "source": [
    "df_no_2018.year_clean = df_no_2018.year_clean.astype(int)"
   ]
  },
  {
   "cell_type": "code",
   "execution_count": 40,
   "metadata": {},
   "outputs": [
    {
     "name": "stderr",
     "output_type": "stream",
     "text": [
      "/Users/kevinlitnav/.pyenv/versions/3.6.4/lib/python3.6/site-packages/pandas/core/frame.py:3778: SettingWithCopyWarning: \n",
      "A value is trying to be set on a copy of a slice from a DataFrame\n",
      "\n",
      "See the caveats in the documentation: http://pandas.pydata.org/pandas-docs/stable/indexing.html#indexing-view-versus-copy\n",
      "  return super(DataFrame, self).rename(**kwargs)\n"
     ]
    }
   ],
   "source": [
    "df_no_2018.rename(columns={'cause of death': 'description'}, inplace=True)"
   ]
  },
  {
   "cell_type": "code",
   "execution_count": 41,
   "metadata": {},
   "outputs": [
    {
     "name": "stderr",
     "output_type": "stream",
     "text": [
      "/Users/kevinlitnav/.pyenv/versions/3.6.4/lib/python3.6/site-packages/ipykernel_launcher.py:1: SettingWithCopyWarning: \n",
      "A value is trying to be set on a copy of a slice from a DataFrame.\n",
      "Try using .loc[row_indexer,col_indexer] = value instead\n",
      "\n",
      "See the caveats in the documentation: http://pandas.pydata.org/pandas-docs/stable/indexing.html#indexing-view-versus-copy\n",
      "  \"\"\"Entry point for launching an IPython kernel.\n"
     ]
    }
   ],
   "source": [
    "df_no_2018['suicide'] = df_no_2018.description.str.contains('suicide')"
   ]
  },
  {
   "cell_type": "code",
   "execution_count": 42,
   "metadata": {},
   "outputs": [
    {
     "name": "stderr",
     "output_type": "stream",
     "text": [
      "/Users/kevinlitnav/.pyenv/versions/3.6.4/lib/python3.6/site-packages/ipykernel_launcher.py:1: SettingWithCopyWarning: \n",
      "A value is trying to be set on a copy of a slice from a DataFrame.\n",
      "Try using .loc[row_indexer,col_indexer] = value instead\n",
      "\n",
      "See the caveats in the documentation: http://pandas.pydata.org/pandas-docs/stable/indexing.html#indexing-view-versus-copy\n",
      "  \"\"\"Entry point for launching an IPython kernel.\n"
     ]
    }
   ],
   "source": [
    "df_no_2018['drowned'] = df_no_2018.description.str.contains('drown|drowned|off coast|sea|sunk|swim|shipwreck|capsized|sank')"
   ]
  },
  {
   "cell_type": "code",
   "execution_count": 111,
   "metadata": {},
   "outputs": [
    {
     "name": "stderr",
     "output_type": "stream",
     "text": [
      "/Users/kevinlitnav/.pyenv/versions/3.6.4/lib/python3.6/site-packages/ipykernel_launcher.py:1: SettingWithCopyWarning: \n",
      "A value is trying to be set on a copy of a slice from a DataFrame.\n",
      "Try using .loc[row_indexer,col_indexer] = value instead\n",
      "\n",
      "See the caveats in the documentation: http://pandas.pydata.org/pandas-docs/stable/indexing.html#indexing-view-versus-copy\n",
      "  \"\"\"Entry point for launching an IPython kernel.\n"
     ]
    }
   ],
   "source": [
    "df_no_2018['shot'] = df_no_2018.description.str.contains('shot|shooting|gun')"
   ]
  },
  {
   "cell_type": "code",
   "execution_count": 54,
   "metadata": {},
   "outputs": [
    {
     "data": {
      "image/png": "[encoded data removed]",
      "text/plain": [
       "<Figure size 1152x576 with 1 Axes>"
      ]
     },
     "metadata": {},
     "output_type": "display_data"
    }
   ],
   "source": [
    "ax = df_no_2018.plot(kind='scatter',figsize=(16,8), x='year_clean', y='number')\n",
    "\n",
    "ax.set_xlabel('')\n",
    "ax.set_ylabel('')\n",
    "\n",
    "ax.set_title('Mass refugee and migrant deaths')\n",
    "ax.grid(axis='x')"
   ]
  },
  {
   "cell_type": "code",
   "execution_count": 44,
   "metadata": {},
   "outputs": [
    {
     "data": {
      "image/png": "[encoded data removed]",
      "text/plain": [
       "<Figure size 1152x576 with 1 Axes>"
      ]
     },
     "metadata": {},
     "output_type": "display_data"
    }
   ],
   "source": [
    "ax = df_no_2018.resample('A', on='datetime').number.sum().plot(figsize=(16,8))\n",
    "\n",
    "ax.set_xlabel('')\n",
    "\n",
    "ax.set_title('Refugee and migrant deaths on the way to Europe')\n",
    "ax.grid(axis='x')"
   ]
  },
  {
   "cell_type": "markdown",
   "metadata": {},
   "source": [
    "# Looking at descriptions"
   ]
  },
  {
   "cell_type": "code",
   "execution_count": 45,
   "metadata": {},
   "outputs": [],
   "source": [
    "df.rename(columns={'cause of death': 'description'}, inplace=True)"
   ]
  },
  {
   "cell_type": "code",
   "execution_count": 46,
   "metadata": {},
   "outputs": [
    {
     "data": {
      "text/html": [
       "<div>\n",
       "<style scoped>\n",
       "    .dataframe tbody tr th:only-of-type {\n",
       "        vertical-align: middle;\n",
       "    }\n",
       "\n",
       "    .dataframe tbody tr th {\n",
       "        vertical-align: top;\n",
       "    }\n",
       "\n",
       "    .dataframe thead th {\n",
       "        text-align: right;\n",
       "    }\n",
       "</style>\n",
       "<table border=\"1\" class=\"dataframe\">\n",
       "  <thead>\n",
       "    <tr style=\"text-align: right;\">\n",
       "      <th></th>\n",
       "      <th>found dead</th>\n",
       "      <th>number</th>\n",
       "      <th>name, gender, age</th>\n",
       "      <th>region of origin</th>\n",
       "      <th>description</th>\n",
       "      <th>source</th>\n",
       "      <th>country of incident</th>\n",
       "      <th>year_clean</th>\n",
       "      <th>datetime</th>\n",
       "    </tr>\n",
       "  </thead>\n",
       "  <tbody>\n",
       "    <tr>\n",
       "      <th>0</th>\n",
       "      <td>05/05/18</td>\n",
       "      <td>4</td>\n",
       "      <td>N.N. (1 man)</td>\n",
       "      <td>Africa</td>\n",
       "      <td>1 died off coast of Tripoli (LY) after Libyan ...</td>\n",
       "      <td>AFP/IOM Libya/BangkokPost</td>\n",
       "      <td>Libya</td>\n",
       "      <td>2018</td>\n",
       "      <td>2018-05-05</td>\n",
       "    </tr>\n",
       "    <tr>\n",
       "      <th>1</th>\n",
       "      <td>30/04/18</td>\n",
       "      <td>2</td>\n",
       "      <td>N.N. (2 men)</td>\n",
       "      <td>unknown</td>\n",
       "      <td>bodies recovered in Gasr Garabulli (aka Castel...</td>\n",
       "      <td>IOM Libya</td>\n",
       "      <td>Libya</td>\n",
       "      <td>2018</td>\n",
       "      <td>2018-04-30</td>\n",
       "    </tr>\n",
       "    <tr>\n",
       "      <th>2</th>\n",
       "      <td>30/04/18</td>\n",
       "      <td>1</td>\n",
       "      <td>N.N. (woman)</td>\n",
       "      <td>unknown</td>\n",
       "      <td>body recovered on Tajoura beach (LY)</td>\n",
       "      <td>IOM Libya</td>\n",
       "      <td>Libya</td>\n",
       "      <td>2018</td>\n",
       "      <td>2018-04-30</td>\n",
       "    </tr>\n",
       "    <tr>\n",
       "      <th>3</th>\n",
       "      <td>30/04/18</td>\n",
       "      <td>6</td>\n",
       "      <td>N.N. (1 baby; 5 men)</td>\n",
       "      <td>unknown</td>\n",
       "      <td>bodies recovered in Zuwara (LY)</td>\n",
       "      <td>IOM Libya</td>\n",
       "      <td>Libya</td>\n",
       "      <td>2018</td>\n",
       "      <td>2018-04-30</td>\n",
       "    </tr>\n",
       "    <tr>\n",
       "      <th>4</th>\n",
       "      <td>30/04/18</td>\n",
       "      <td>1</td>\n",
       "      <td>N.N. (man)</td>\n",
       "      <td>Algeria</td>\n",
       "      <td>drowned trying to swim across the Kolpa River ...</td>\n",
       "      <td>IOM Slovenia/TotSloveniaNews</td>\n",
       "      <td>unknown</td>\n",
       "      <td>2018</td>\n",
       "      <td>2018-04-30</td>\n",
       "    </tr>\n",
       "  </tbody>\n",
       "</table>\n",
       "</div>"
      ],
      "text/plain": [
       "  found dead  number     name, gender, age region of origin  \\\n",
       "0   05/05/18       4          N.N. (1 man)           Africa   \n",
       "1   30/04/18       2          N.N. (2 men)          unknown   \n",
       "2   30/04/18       1          N.N. (woman)          unknown   \n",
       "3   30/04/18       6  N.N. (1 baby; 5 men)          unknown   \n",
       "4   30/04/18       1            N.N. (man)          Algeria   \n",
       "\n",
       "                                         description  \\\n",
       "0  1 died off coast of Tripoli (LY) after Libyan ...   \n",
       "1  bodies recovered in Gasr Garabulli (aka Castel...   \n",
       "2               body recovered on Tajoura beach (LY)   \n",
       "3                    bodies recovered in Zuwara (LY)   \n",
       "4  drowned trying to swim across the Kolpa River ...   \n",
       "\n",
       "                         source country of incident year_clean   datetime  \n",
       "0     AFP/IOM Libya/BangkokPost               Libya       2018 2018-05-05  \n",
       "1                     IOM Libya               Libya       2018 2018-04-30  \n",
       "2                     IOM Libya               Libya       2018 2018-04-30  \n",
       "3                     IOM Libya               Libya       2018 2018-04-30  \n",
       "4  IOM Slovenia/TotSloveniaNews             unknown       2018 2018-04-30  "
      ]
     },
     "execution_count": 46,
     "metadata": {},
     "output_type": "execute_result"
    }
   ],
   "source": [
    "df.head()"
   ]
  },
  {
   "cell_type": "code",
   "execution_count": 47,
   "metadata": {},
   "outputs": [],
   "source": [
    "df['suicide'] = df.description.str.contains('suicide')"
   ]
  },
  {
   "cell_type": "code",
   "execution_count": 48,
   "metadata": {},
   "outputs": [],
   "source": [
    "df['drowned'] = df.description.str.contains('drown|drowned|off coast|sea|sunk|swim|shipwreck|capsized|sank')"
   ]
  },
  {
   "cell_type": "code",
   "execution_count": 49,
   "metadata": {},
   "outputs": [
    {
     "data": {
      "text/html": [
       "<div>\n",
       "<style scoped>\n",
       "    .dataframe tbody tr th:only-of-type {\n",
       "        vertical-align: middle;\n",
       "    }\n",
       "\n",
       "    .dataframe tbody tr th {\n",
       "        vertical-align: top;\n",
       "    }\n",
       "\n",
       "    .dataframe thead th {\n",
       "        text-align: right;\n",
       "    }\n",
       "</style>\n",
       "<table border=\"1\" class=\"dataframe\">\n",
       "  <thead>\n",
       "    <tr style=\"text-align: right;\">\n",
       "      <th></th>\n",
       "      <th>found dead</th>\n",
       "      <th>number</th>\n",
       "      <th>name, gender, age</th>\n",
       "      <th>region of origin</th>\n",
       "      <th>description</th>\n",
       "      <th>source</th>\n",
       "      <th>country of incident</th>\n",
       "      <th>year_clean</th>\n",
       "      <th>datetime</th>\n",
       "      <th>suicide</th>\n",
       "      <th>drowned</th>\n",
       "    </tr>\n",
       "  </thead>\n",
       "  <tbody>\n",
       "    <tr>\n",
       "      <th>0</th>\n",
       "      <td>05/05/18</td>\n",
       "      <td>4</td>\n",
       "      <td>N.N. (1 man)</td>\n",
       "      <td>Africa</td>\n",
       "      <td>1 died off coast of Tripoli (LY) after Libyan ...</td>\n",
       "      <td>AFP/IOM Libya/BangkokPost</td>\n",
       "      <td>Libya</td>\n",
       "      <td>2018</td>\n",
       "      <td>2018-05-05</td>\n",
       "      <td>False</td>\n",
       "      <td>True</td>\n",
       "    </tr>\n",
       "    <tr>\n",
       "      <th>1</th>\n",
       "      <td>30/04/18</td>\n",
       "      <td>2</td>\n",
       "      <td>N.N. (2 men)</td>\n",
       "      <td>unknown</td>\n",
       "      <td>bodies recovered in Gasr Garabulli (aka Castel...</td>\n",
       "      <td>IOM Libya</td>\n",
       "      <td>Libya</td>\n",
       "      <td>2018</td>\n",
       "      <td>2018-04-30</td>\n",
       "      <td>False</td>\n",
       "      <td>False</td>\n",
       "    </tr>\n",
       "    <tr>\n",
       "      <th>2</th>\n",
       "      <td>30/04/18</td>\n",
       "      <td>1</td>\n",
       "      <td>N.N. (woman)</td>\n",
       "      <td>unknown</td>\n",
       "      <td>body recovered on Tajoura beach (LY)</td>\n",
       "      <td>IOM Libya</td>\n",
       "      <td>Libya</td>\n",
       "      <td>2018</td>\n",
       "      <td>2018-04-30</td>\n",
       "      <td>False</td>\n",
       "      <td>False</td>\n",
       "    </tr>\n",
       "    <tr>\n",
       "      <th>3</th>\n",
       "      <td>30/04/18</td>\n",
       "      <td>6</td>\n",
       "      <td>N.N. (1 baby; 5 men)</td>\n",
       "      <td>unknown</td>\n",
       "      <td>bodies recovered in Zuwara (LY)</td>\n",
       "      <td>IOM Libya</td>\n",
       "      <td>Libya</td>\n",
       "      <td>2018</td>\n",
       "      <td>2018-04-30</td>\n",
       "      <td>False</td>\n",
       "      <td>False</td>\n",
       "    </tr>\n",
       "    <tr>\n",
       "      <th>4</th>\n",
       "      <td>30/04/18</td>\n",
       "      <td>1</td>\n",
       "      <td>N.N. (man)</td>\n",
       "      <td>Algeria</td>\n",
       "      <td>drowned trying to swim across the Kolpa River ...</td>\n",
       "      <td>IOM Slovenia/TotSloveniaNews</td>\n",
       "      <td>unknown</td>\n",
       "      <td>2018</td>\n",
       "      <td>2018-04-30</td>\n",
       "      <td>False</td>\n",
       "      <td>True</td>\n",
       "    </tr>\n",
       "  </tbody>\n",
       "</table>\n",
       "</div>"
      ],
      "text/plain": [
       "  found dead  number     name, gender, age region of origin  \\\n",
       "0   05/05/18       4          N.N. (1 man)           Africa   \n",
       "1   30/04/18       2          N.N. (2 men)          unknown   \n",
       "2   30/04/18       1          N.N. (woman)          unknown   \n",
       "3   30/04/18       6  N.N. (1 baby; 5 men)          unknown   \n",
       "4   30/04/18       1            N.N. (man)          Algeria   \n",
       "\n",
       "                                         description  \\\n",
       "0  1 died off coast of Tripoli (LY) after Libyan ...   \n",
       "1  bodies recovered in Gasr Garabulli (aka Castel...   \n",
       "2               body recovered on Tajoura beach (LY)   \n",
       "3                    bodies recovered in Zuwara (LY)   \n",
       "4  drowned trying to swim across the Kolpa River ...   \n",
       "\n",
       "                         source country of incident year_clean   datetime  \\\n",
       "0     AFP/IOM Libya/BangkokPost               Libya       2018 2018-05-05   \n",
       "1                     IOM Libya               Libya       2018 2018-04-30   \n",
       "2                     IOM Libya               Libya       2018 2018-04-30   \n",
       "3                     IOM Libya               Libya       2018 2018-04-30   \n",
       "4  IOM Slovenia/TotSloveniaNews             unknown       2018 2018-04-30   \n",
       "\n",
       "   suicide  drowned  \n",
       "0    False     True  \n",
       "1    False    False  \n",
       "2    False    False  \n",
       "3    False    False  \n",
       "4    False     True  "
      ]
     },
     "execution_count": 49,
     "metadata": {},
     "output_type": "execute_result"
    }
   ],
   "source": [
    "df.head()"
   ]
  },
  {
   "cell_type": "code",
   "execution_count": 50,
   "metadata": {},
   "outputs": [
    {
     "data": {
      "image/png": "[encoded data removed]",
      "text/plain": [
       "<Figure size 720x360 with 1 Axes>"
      ]
     },
     "metadata": {},
     "output_type": "display_data"
    }
   ],
   "source": [
    "ax = df.groupby('region of origin').number.sum().sort_values(ascending=False).head(10).sort_values().plot(kind='barh', figsize=(10,5), color=['#333333'])\n",
    "\n",
    "ax.set_xlabel('')\n",
    "ax.set_ylabel('')\n",
    "\n",
    "\n",
    "ax.set_title('Refugee and migrant deaths by country of origin')\n",
    "ax.grid(axis='y')"
   ]
  },
  {
   "cell_type": "code",
   "execution_count": 222,
   "metadata": {},
   "outputs": [
    {
     "data": {
      "text/plain": [
       "Text(21.82,78.465,'Of the 72 gun homicides in 2017, 67 were commited by Turkish border guards.')"
      ]
     },
     "execution_count": 222,
     "metadata": {},
     "output_type": "execute_result"
    },
    {
     "data": {
      "image/png": "[encoded data removed]",
      "text/plain": [
       "<Figure size 1152x576 with 1 Axes>"
      ]
     },
     "metadata": {},
     "output_type": "display_data"
    }
   ],
   "source": [
    "fig, ax = plt.subplots(facecolor='whitesmoke')\n",
    "\n",
    "ax = df_no_2018[df_no_2018.suicide == True].resample('A', on='datetime').number.sum().plot(figsize=(16,8))\n",
    "\n",
    "df_no_2018[df_no_2018.shot == True].resample(\"A\", on='datetime').number.sum().plot(figsize=(16,8), ax=ax)\n",
    "\n",
    "ax.set_xlabel('')\n",
    "ax.set_title('Refugee and migrant deaths by', loc='left', pad=40, va='baseline')\n",
    "ax.grid(axis='x')\n",
    "\n",
    "ax.text(33.05,83.0,\"gun violence\", fontsize=30, color='#006699', va='baseline')\n",
    "ax.text(37.82,83.0,\"and suicide\", fontsize=30, color='#333333', va='baseline')\n",
    "\n",
    "ax.text(21.82,78.465,\"Of the 72 gun homicides in 2017, 67 were commited by Turkish border guards.\", fontsize=15, fontname='Lora-Regular', color='#006699', va='baseline')\n",
    "\n"
   ]
  },
  {
   "cell_type": "code",
   "execution_count": 52,
   "metadata": {},
   "outputs": [
    {
     "data": {
      "image/png": "[encoded data removed]",
      "text/plain": [
       "<Figure size 1152x576 with 1 Axes>"
      ]
     },
     "metadata": {},
     "output_type": "display_data"
    }
   ],
   "source": [
    "ax = df_no_2018[df_no_2018.drowned == True].resample('A', on='datetime').number.sum().plot(figsize=(16,8))\n",
    "\n",
    "ax.set_xlabel('')\n",
    "\n",
    "ax.set_title('Refugee and migrant drownings on the way to Europe')\n",
    "ax.grid(axis='x')"
   ]
  },
  {
   "cell_type": "code",
   "execution_count": 59,
   "metadata": {},
   "outputs": [],
   "source": [
    "df['shot'] = df.description.str.contains('shot|shooting|gun')"
   ]
  },
  {
   "cell_type": "code",
   "execution_count": 80,
   "metadata": {},
   "outputs": [],
   "source": [
    "df['turkish_border_guards'] = df.description.str.contains(r'Turkish border guards')"
   ]
  },
  {
   "cell_type": "code",
   "execution_count": 201,
   "metadata": {},
   "outputs": [
    {
     "data": {
      "text/plain": [
       "67"
      ]
     },
     "execution_count": 201,
     "metadata": {},
     "output_type": "execute_result"
    }
   ],
   "source": [
    "df[(df.year_clean == '2017') & (df.shot == True) & (df['turkish_border_guards'] == True)].number.sum()"
   ]
  },
  {
   "cell_type": "code",
   "execution_count": 107,
   "metadata": {},
   "outputs": [
    {
     "data": {
      "text/plain": [
       "<matplotlib.axes._subplots.AxesSubplot at 0x109146fd0>"
      ]
     },
     "execution_count": 107,
     "metadata": {},
     "output_type": "execute_result"
    },
    {
     "data": {
      "image/png": "[encoded data removed]",
      "text/plain": [
       "<Figure size 432x288 with 1 Axes>"
      ]
     },
     "metadata": {},
     "output_type": "display_data"
    }
   ],
   "source": [
    "df[df.suicide == True].number.plot(kind='barh', y='suicide')"
   ]
  },
  {
   "cell_type": "code",
   "execution_count": 95,
   "metadata": {},
   "outputs": [
    {
     "data": {
      "image/png": "[encoded data removed]",
      "text/plain": [
       "<Figure size 720x360 with 1 Axes>"
      ]
     },
     "metadata": {},
     "output_type": "display_data"
    }
   ],
   "source": [
    "ax = df.groupby('country of incident').number.sum().sort_values(ascending=False).head(10).sort_values().plot(kind='barh', figsize=(10,5), color=['#333333'])\n",
    "\n",
    "ax.set_xlabel('')\n",
    "ax.set_ylabel('')\n",
    "\n",
    "\n",
    "ax.set_title('Refugee and migrant deaths by country of incident')\n",
    "ax.grid(axis='y')"
   ]
  },
  {
   "cell_type": "markdown",
   "metadata": {},
   "source": [
    "'We are gathered here friends,' he said, 'to honour lo Hoon-yera Mora-toorz tut Zamoo-cratz-ya [one hundred martyrs to democracy], children dead, all dead, all murdered in war. It is customary on days like this to call such lost children men. I am unable to call them men for this simple reason: that in the same war in which lo Hoon-yera Mora-toorz tut Zamoo-cratz-ya died, my own son died.\n",
    "\n",
    "My soul insists that I mourn not a man but a child.\n",
    "\n",
    "I do not say that children at war do not die like men, if they have to die. To their everlasting honour and our everlasting shame, they do die like men, thus making possible the manly jubilation of patriotic holidays.\n",
    "\n",
    "But they are murdered children all the same.\n",
    "\n",
    "And I propose to you that if we are to pay our sincere respects to the hundred lost children of San Lorenzo, that we might best spend the day despising what killed them; which is to say, the stupidity and viciousness of all mankind.\n",
    "\n",
    "Perhaps, when we remember wars, we should take off our clothes and paint ourselves blue and go on all fours all day long and grunt like pigs. That would surely be more appropriate than noble oratory and shows of flags and well-oiled guns.\n",
    "\n",
    "I do not mean to be ungrateful for the fine, martial show we are about to see - and a thrilling show it really will be.....\n",
    "\n",
    "And hooray say I for thrilling shows.\n",
    "\n",
    "But if today is really in honour of a hundred children murdered in war is today a day for a thrilling show?\n",
    "\n",
    "The answer is yes, on one condition: that we, the celebrants, are working consciously and tirelessly to reduce the stupidity and viciousness of ourselves and of all mankind."
   ]
  },
  {
   "cell_type": "code",
   "execution_count": null,
   "metadata": {},
   "outputs": [],
   "source": []
  }
 ],
 "metadata": {
  "kernelspec": {
   "display_name": "Python 3",
   "language": "python",
   "name": "python3"
  },
  "language_info": {
   "codemirror_mode": {
    "name": "ipython",
    "version": 3
   },
   "file_extension": ".py",
   "mimetype": "text/x-python",
   "name": "python",
   "nbconvert_exporter": "python",
   "pygments_lexer": "ipython3",
   "version": "3.6.4"
  }
 },
 "nbformat": 4,
 "nbformat_minor": 2
}
